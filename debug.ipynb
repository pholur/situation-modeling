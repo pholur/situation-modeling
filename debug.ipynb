{
 "cells": [
  {
   "cell_type": "code",
   "execution_count": 2,
   "metadata": {},
   "outputs": [],
   "source": [
    "import pandas as pd\n",
    "from imports import *\n",
    "df = pd.read_csv(RAW_TRAIN_DATA_PATH)"
   ]
  },
  {
   "cell_type": "code",
   "execution_count": 4,
   "metadata": {},
   "outputs": [
    {
     "data": {
      "text/html": [
       "<div>\n",
       "<style scoped>\n",
       "    .dataframe tbody tr th:only-of-type {\n",
       "        vertical-align: middle;\n",
       "    }\n",
       "\n",
       "    .dataframe tbody tr th {\n",
       "        vertical-align: top;\n",
       "    }\n",
       "\n",
       "    .dataframe thead th {\n",
       "        text-align: right;\n",
       "    }\n",
       "</style>\n",
       "<table border=\"1\" class=\"dataframe\">\n",
       "  <thead>\n",
       "    <tr style=\"text-align: right;\">\n",
       "      <th></th>\n",
       "      <th>PostID</th>\n",
       "      <th>Post</th>\n",
       "      <th>Sentence</th>\n",
       "      <th>NP</th>\n",
       "      <th>Modified_Post</th>\n",
       "      <th>Modified_Sentence</th>\n",
       "      <th>Question</th>\n",
       "      <th>sentiment</th>\n",
       "    </tr>\n",
       "  </thead>\n",
       "  <tbody>\n",
       "    <tr>\n",
       "      <th>0</th>\n",
       "      <td>63</td>\n",
       "      <td>Youre fine with genocide? Ultimately wiping pe...</td>\n",
       "      <td>But with a comment like your second point, it ...</td>\n",
       "      <td>you</td>\n",
       "      <td>Youre fine with genocide? Ultimately wiping pe...</td>\n",
       "      <td>But with a comment like &lt;b&gt;you&lt;/b&gt;r second poi...</td>\n",
       "      <td>Does the *** AUTHOR *** think that you(in bold...</td>\n",
       "      <td>$AnswerB</td>\n",
       "    </tr>\n",
       "    <tr>\n",
       "      <th>1</th>\n",
       "      <td>3494</td>\n",
       "      <td>If the U.S. Big Pharma created the Coronavirus...</td>\n",
       "      <td>If they released it in another country, there'...</td>\n",
       "      <td>theirs</td>\n",
       "      <td>If the U.S. Big Pharma created the Coronavirus...</td>\n",
       "      <td>If they released it in another country, there'...</td>\n",
       "      <td>Does the *** AUTHOR *** think that theirs(in b...</td>\n",
       "      <td>$AnswerB</td>\n",
       "    </tr>\n",
       "    <tr>\n",
       "      <th>2</th>\n",
       "      <td>6427</td>\n",
       "      <td>From another post I made &gt;No one said it's imp...</td>\n",
       "      <td>The entire point is that it will allow the vas...</td>\n",
       "      <td>The entire point</td>\n",
       "      <td>From another post I made &gt;No one said it's imp...</td>\n",
       "      <td>&lt;b&gt;The entire point&lt;/b&gt; is that it will allow ...</td>\n",
       "      <td>Does the *** AUTHOR *** think that The entire ...</td>\n",
       "      <td>$AnswerA</td>\n",
       "    </tr>\n",
       "    <tr>\n",
       "      <th>3</th>\n",
       "      <td>61</td>\n",
       "      <td>When nearly half a million people die in one y...</td>\n",
       "      <td>When nearly half a million people die in one y...</td>\n",
       "      <td>nearly half a million people</td>\n",
       "      <td>&lt;b&gt;When nearly half a million people die in on...</td>\n",
       "      <td>When &lt;b&gt;nearly half a million people&lt;/b&gt; die i...</td>\n",
       "      <td>Does the *** AUTHOR *** think that nearly half...</td>\n",
       "      <td>$AnswerC</td>\n",
       "    </tr>\n",
       "    <tr>\n",
       "      <th>4</th>\n",
       "      <td>3472</td>\n",
       "      <td>At this point I'm assuming the sars-cov-2 vacc...</td>\n",
       "      <td>If it turns out better then I will be pleasant...</td>\n",
       "      <td>I</td>\n",
       "      <td>At this point I'm assuming the sars-cov-2 vacc...</td>\n",
       "      <td>&lt;b&gt;I&lt;/b&gt;f it turns out better then &lt;b&gt;I&lt;/b&gt; wi...</td>\n",
       "      <td>Does the *** AUTHOR *** think that I(in bold) ...</td>\n",
       "      <td>$AnswerA</td>\n",
       "    </tr>\n",
       "  </tbody>\n",
       "</table>\n",
       "</div>"
      ],
      "text/plain": [
       "   PostID                                               Post  \\\n",
       "0      63  Youre fine with genocide? Ultimately wiping pe...   \n",
       "1    3494  If the U.S. Big Pharma created the Coronavirus...   \n",
       "2    6427  From another post I made >No one said it's imp...   \n",
       "3      61  When nearly half a million people die in one y...   \n",
       "4    3472  At this point I'm assuming the sars-cov-2 vacc...   \n",
       "\n",
       "                                            Sentence  \\\n",
       "0  But with a comment like your second point, it ...   \n",
       "1  If they released it in another country, there'...   \n",
       "2  The entire point is that it will allow the vas...   \n",
       "3  When nearly half a million people die in one y...   \n",
       "4  If it turns out better then I will be pleasant...   \n",
       "\n",
       "                             NP  \\\n",
       "0                           you   \n",
       "1                        theirs   \n",
       "2              The entire point   \n",
       "3  nearly half a million people   \n",
       "4                             I   \n",
       "\n",
       "                                       Modified_Post  \\\n",
       "0  Youre fine with genocide? Ultimately wiping pe...   \n",
       "1  If the U.S. Big Pharma created the Coronavirus...   \n",
       "2  From another post I made >No one said it's imp...   \n",
       "3  <b>When nearly half a million people die in on...   \n",
       "4  At this point I'm assuming the sars-cov-2 vacc...   \n",
       "\n",
       "                                   Modified_Sentence  \\\n",
       "0  But with a comment like <b>you</b>r second poi...   \n",
       "1  If they released it in another country, there'...   \n",
       "2  <b>The entire point</b> is that it will allow ...   \n",
       "3  When <b>nearly half a million people</b> die i...   \n",
       "4  <b>I</b>f it turns out better then <b>I</b> wi...   \n",
       "\n",
       "                                            Question sentiment  \n",
       "0  Does the *** AUTHOR *** think that you(in bold...  $AnswerB  \n",
       "1  Does the *** AUTHOR *** think that theirs(in b...  $AnswerB  \n",
       "2  Does the *** AUTHOR *** think that The entire ...  $AnswerA  \n",
       "3  Does the *** AUTHOR *** think that nearly half...  $AnswerC  \n",
       "4  Does the *** AUTHOR *** think that I(in bold) ...  $AnswerA  "
      ]
     },
     "execution_count": 4,
     "metadata": {},
     "output_type": "execute_result"
    }
   ],
   "source": [
    "df.head()"
   ]
  },
  {
   "cell_type": "code",
   "execution_count": 15,
   "metadata": {},
   "outputs": [],
   "source": [
    "import pickle\n",
    "with open(\"/mnt/SSD2/pholur/CTs/Pickles/train_dataset.pkl\", 'rb') as f:\n",
    "    var_ = pickle.load(f)"
   ]
  },
  {
   "cell_type": "code",
   "execution_count": 36,
   "metadata": {},
   "outputs": [
    {
     "name": "stdout",
     "output_type": "stream",
     "text": [
      "after musk helped encourage folk to buy gamestop shares, he appears to be getting targeted like this. wallstreet funding an astroturf attack. remember this is the same musk who called gates a knucklehead and said him and his family will refuse the vaccine. [([(102, 112)], 2), ([(40, 55)], 0), ([(173, 176)], 2), ([(121, 140)], 2), ([(221, 231)], 2), ([(57, 59)], 2), ([(6, 10), (168, 172)], 0), ([(244, 255)], 2), ([(213, 216)], 2), ([(159, 172)], 2), ([(184, 189)], 2), ([(28, 32)], 1)]\n",
      "wallstreet 2\n",
      "gamestop shares 0\n",
      "who 2\n",
      "an astroturf attack 2\n",
      "his family 2\n",
      "he 2\n",
      "musk 0\n",
      "musk 0\n",
      "the vaccine 2\n",
      "him 2\n",
      "the same musk 2\n",
      "gates 2\n",
      "folk 1\n"
     ]
    }
   ],
   "source": [
    "i = 1\n",
    "for k in var_:\n",
    "    if i > 420:\n",
    "        print(k, var_[k])\n",
    "        for tup in var_[k]:\n",
    "            for t in tup[0]:\n",
    "                print(k[t[0]:t[1]], tup[1])\n",
    "        if i > 0:\n",
    "            break\n",
    "    i += 1"
   ]
  },
  {
   "cell_type": "code",
   "execution_count": 31,
   "metadata": {},
   "outputs": [
    {
     "data": {
      "text/plain": [
       "41936"
      ]
     },
     "execution_count": 31,
     "metadata": {},
     "output_type": "execute_result"
    }
   ],
   "source": [
    "len(var_)"
   ]
  },
  {
   "cell_type": "code",
   "execution_count": null,
   "metadata": {},
   "outputs": [],
   "source": [
    "[   2    2    2 -100 -100 -100 -100 -100 -100 -100 -100 -100 -100 -100\n",
    " -100 -100 -100 -100 -100 -100 -100 -100 -100 -100 -100 -100 -100 -100\n",
    " -100 -100 -100 -100 -100 -100 -100 -100 -100 -100 -100    2    2 -100\n",
    " -100 -100 -100 -100 -100 -100 -100 -100 -100 -100 -100 -100 -100 -100\n",
    " -100 -100 -100 -100 -100 -100 -100 -100 -100 -100 -100 -100    2 -100\n",
    " -100 -100 -100 -100 -100 -100 -100 -100 -100 -100 -100    2 -100 -100\n",
    " -100 -100 -100 -100    2    2    2    2    2    2    2    2    2    2\n",
    "    2    2    2    2    2    2    2    2    2    2    2    2    2    2\n",
    "    2    2    2    2    2    2    2    2    2    2    2    2    2    2\n",
    "    2    2    2    2    2    2    2    2    2    2    2    2    2    2\n",
    "    2    2    2    2    2    2    2    2    2    2    2    2    2    2\n",
    "    2    2    2    2    2    2    2    2    2    2    2    2    2    2\n",
    "    2    2    2    2    2    2    2    2]\n",
    "\n",
    "[(328, 331), (0, 3), (200, 203), (387, 390)]\n",
    "\n",
    "2\n",
    "\n",
    "youre fine with genocide? ultimately wiping people out under the guise of helpful vaccines? \n",
    "just ask the women in africa who were vaccinated by his vaccines and now their \n",
    "children have birth defects. youre ok with thinning the herd that way? thats pretty inhumane. \n",
    "but with a comment like your second point, it makes sense that you would gleefully bomb a \n",
    "country with poison, so long as you had money. yikes.\n",
    "\n",
    "[(0, 0), (0, 3), (3, 5), (6, 10), (11, 15), (16, 24), (24, 25), (26, 36), (37, 43), (44, 50), (51, 54), (55, 60), (61, 64), (65, 70), (71, 73), (74, 81), (82, 90), (90, 91), (92, 96), (97, 100), (101, 104), (105, 110), (111, 113), (114, 116), (116, 120), (121, 124), (125, 129), (130, 140), (141, 143), (144, 147), (148, 156), (157, 160), (161, 164), (165, 170), (171, 179), (180, 184), (185, 190), (191, 198), (198, 199), (200, 203), (203, 205), (206, 208), (209, 213), (214, 218), (218, 222), (223, 226), (227, 231), (232, 236), (237, 240), (240, 241), (242, 247), (248, 254), (255, 257), (257, 263), (263, 264), (265, 268), (269, 273), (274, 275), (276, 283), (284, 288), (289, 293), (294, 300), (301, 306), (306, 307), (308, 310), (311, 316), (317, 322), (323, 327), (328, 331), (332, 337), (338, 341), (341, 347), (348, 352), (353, 354), (355, 362), (363, 367), (368, 374), (374, 375), (376, 378), (379, 383), (384, 386), (387, 390), (391, 394), (395, 400), (400, 401), (402, 403), (403, 407), (407, 408), (0, 0), (0, 0), (0, 0), (0, 0), (0, 0), (0, 0), (0, 0), (0, 0), (0, 0), (0, 0), (0, 0), (0, 0), (0, 0), (0, 0), (0, 0), (0, 0), (0, 0), (0, 0), (0, 0), (0, 0), (0, 0), (0, 0), (0, 0), (0, 0), (0, 0), (0, 0), (0, 0), (0, 0), (0, 0), (0, 0), (0, 0), (0, 0), (0, 0), (0, 0), (0, 0), (0, 0), (0, 0), (0, 0), (0, 0), (0, 0), (0, 0), (0, 0), (0, 0), (0, 0), (0, 0), (0, 0), (0, 0), (0, 0), (0, 0), (0, 0), (0, 0), (0, 0), (0, 0), (0, 0), (0, 0), (0, 0), (0, 0), (0, 0), (0, 0), (0, 0), (0, 0), (0, 0), (0, 0), (0, 0), (0, 0), (0, 0), (0, 0), (0, 0), (0, 0), (0, 0), (0, 0), (0, 0), (0, 0), (0, 0), (0, 0), (0, 0), (0, 0), (0, 0), (0, 0), (0, 0), (0, 0), (0, 0), (0, 0), (0, 0), (0, 0), (0, 0), (0, 0), (0, 0)]\n",
    "[([(328, 331), (0, 3), (200, 203), (387, 390)], 2), ([(289, 306)], 2), ([(185, 198)], 2), ([(121, 124)], 2), ([(165, 179)], 1), ([(328, 331), (0, 3), (200, 203), (387, 390)], 2), ([(61, 70)], 2), ([(395, 400)], 2), ([(16, 24)], 2), ([(74, 90)], 2), ([(144, 156)], 2), ([(308, 310)], 2), ([(317, 322)], 2), ([(44, 50)], 0), ([(274, 283)], 2), ([(368, 374)], 2), ([(101, 110)], 0), ([(328, 331), (0, 3), (200, 203), (387, 390)], 2)]"
   ]
  },
  {
   "cell_type": "code",
   "execution_count": 27,
   "metadata": {},
   "outputs": [
    {
     "data": {
      "text/html": [
       "<span class=\"tex2jax_ignore\"><svg xmlns=\"http://www.w3.org/2000/svg\" xmlns:xlink=\"http://www.w3.org/1999/xlink\" xml:lang=\"en\" id=\"739c59d06aa94fe6b16c9991f24706c3-0\" class=\"displacy\" width=\"1100\" height=\"224.5\" direction=\"ltr\" style=\"max-width: none; height: 224.5px; color: #000000; background: #ffffff; font-family: Arial; direction: ltr\">\n",
       "<text class=\"displacy-token\" fill=\"currentColor\" text-anchor=\"middle\" y=\"134.5\">\n",
       "    <tspan class=\"displacy-word\" fill=\"currentColor\" x=\"50\">Microchips</tspan>\n",
       "    <tspan class=\"displacy-tag\" dy=\"2em\" fill=\"currentColor\" x=\"50\">NOUN</tspan>\n",
       "</text>\n",
       "\n",
       "<text class=\"displacy-token\" fill=\"currentColor\" text-anchor=\"middle\" y=\"134.5\">\n",
       "    <tspan class=\"displacy-word\" fill=\"currentColor\" x=\"225\">are</tspan>\n",
       "    <tspan class=\"displacy-tag\" dy=\"2em\" fill=\"currentColor\" x=\"225\">AUX</tspan>\n",
       "</text>\n",
       "\n",
       "<text class=\"displacy-token\" fill=\"currentColor\" text-anchor=\"middle\" y=\"134.5\">\n",
       "    <tspan class=\"displacy-word\" fill=\"currentColor\" x=\"400\">useful</tspan>\n",
       "    <tspan class=\"displacy-tag\" dy=\"2em\" fill=\"currentColor\" x=\"400\">ADJ</tspan>\n",
       "</text>\n",
       "\n",
       "<text class=\"displacy-token\" fill=\"currentColor\" text-anchor=\"middle\" y=\"134.5\">\n",
       "    <tspan class=\"displacy-word\" fill=\"currentColor\" x=\"575\">in</tspan>\n",
       "    <tspan class=\"displacy-tag\" dy=\"2em\" fill=\"currentColor\" x=\"575\">ADP</tspan>\n",
       "</text>\n",
       "\n",
       "<text class=\"displacy-token\" fill=\"currentColor\" text-anchor=\"middle\" y=\"134.5\">\n",
       "    <tspan class=\"displacy-word\" fill=\"currentColor\" x=\"750\">making</tspan>\n",
       "    <tspan class=\"displacy-tag\" dy=\"2em\" fill=\"currentColor\" x=\"750\">VERB</tspan>\n",
       "</text>\n",
       "\n",
       "<text class=\"displacy-token\" fill=\"currentColor\" text-anchor=\"middle\" y=\"134.5\">\n",
       "    <tspan class=\"displacy-word\" fill=\"currentColor\" x=\"925\">phones.</tspan>\n",
       "    <tspan class=\"displacy-tag\" dy=\"2em\" fill=\"currentColor\" x=\"925\">NOUN</tspan>\n",
       "</text>\n",
       "\n",
       "<g class=\"displacy-arrow\">\n",
       "    <path class=\"displacy-arc\" id=\"arrow-739c59d06aa94fe6b16c9991f24706c3-0-0\" stroke-width=\"2px\" d=\"M70,89.5 C70,2.0 225.0,2.0 225.0,89.5\" fill=\"none\" stroke=\"currentColor\"/>\n",
       "    <text dy=\"1.25em\" style=\"font-size: 0.8em; letter-spacing: 1px\">\n",
       "        <textPath xlink:href=\"#arrow-739c59d06aa94fe6b16c9991f24706c3-0-0\" class=\"displacy-label\" startOffset=\"50%\" side=\"left\" fill=\"currentColor\" text-anchor=\"middle\">nsubj</textPath>\n",
       "    </text>\n",
       "    <path class=\"displacy-arrowhead\" d=\"M70,91.5 L62,79.5 78,79.5\" fill=\"currentColor\"/>\n",
       "</g>\n",
       "\n",
       "<g class=\"displacy-arrow\">\n",
       "    <path class=\"displacy-arc\" id=\"arrow-739c59d06aa94fe6b16c9991f24706c3-0-1\" stroke-width=\"2px\" d=\"M245,89.5 C245,2.0 400.0,2.0 400.0,89.5\" fill=\"none\" stroke=\"currentColor\"/>\n",
       "    <text dy=\"1.25em\" style=\"font-size: 0.8em; letter-spacing: 1px\">\n",
       "        <textPath xlink:href=\"#arrow-739c59d06aa94fe6b16c9991f24706c3-0-1\" class=\"displacy-label\" startOffset=\"50%\" side=\"left\" fill=\"currentColor\" text-anchor=\"middle\">acomp</textPath>\n",
       "    </text>\n",
       "    <path class=\"displacy-arrowhead\" d=\"M400.0,91.5 L408.0,79.5 392.0,79.5\" fill=\"currentColor\"/>\n",
       "</g>\n",
       "\n",
       "<g class=\"displacy-arrow\">\n",
       "    <path class=\"displacy-arc\" id=\"arrow-739c59d06aa94fe6b16c9991f24706c3-0-2\" stroke-width=\"2px\" d=\"M420,89.5 C420,2.0 575.0,2.0 575.0,89.5\" fill=\"none\" stroke=\"currentColor\"/>\n",
       "    <text dy=\"1.25em\" style=\"font-size: 0.8em; letter-spacing: 1px\">\n",
       "        <textPath xlink:href=\"#arrow-739c59d06aa94fe6b16c9991f24706c3-0-2\" class=\"displacy-label\" startOffset=\"50%\" side=\"left\" fill=\"currentColor\" text-anchor=\"middle\">prep</textPath>\n",
       "    </text>\n",
       "    <path class=\"displacy-arrowhead\" d=\"M575.0,91.5 L583.0,79.5 567.0,79.5\" fill=\"currentColor\"/>\n",
       "</g>\n",
       "\n",
       "<g class=\"displacy-arrow\">\n",
       "    <path class=\"displacy-arc\" id=\"arrow-739c59d06aa94fe6b16c9991f24706c3-0-3\" stroke-width=\"2px\" d=\"M595,89.5 C595,2.0 750.0,2.0 750.0,89.5\" fill=\"none\" stroke=\"currentColor\"/>\n",
       "    <text dy=\"1.25em\" style=\"font-size: 0.8em; letter-spacing: 1px\">\n",
       "        <textPath xlink:href=\"#arrow-739c59d06aa94fe6b16c9991f24706c3-0-3\" class=\"displacy-label\" startOffset=\"50%\" side=\"left\" fill=\"currentColor\" text-anchor=\"middle\">pcomp</textPath>\n",
       "    </text>\n",
       "    <path class=\"displacy-arrowhead\" d=\"M750.0,91.5 L758.0,79.5 742.0,79.5\" fill=\"currentColor\"/>\n",
       "</g>\n",
       "\n",
       "<g class=\"displacy-arrow\">\n",
       "    <path class=\"displacy-arc\" id=\"arrow-739c59d06aa94fe6b16c9991f24706c3-0-4\" stroke-width=\"2px\" d=\"M770,89.5 C770,2.0 925.0,2.0 925.0,89.5\" fill=\"none\" stroke=\"currentColor\"/>\n",
       "    <text dy=\"1.25em\" style=\"font-size: 0.8em; letter-spacing: 1px\">\n",
       "        <textPath xlink:href=\"#arrow-739c59d06aa94fe6b16c9991f24706c3-0-4\" class=\"displacy-label\" startOffset=\"50%\" side=\"left\" fill=\"currentColor\" text-anchor=\"middle\">dobj</textPath>\n",
       "    </text>\n",
       "    <path class=\"displacy-arrowhead\" d=\"M925.0,91.5 L933.0,79.5 917.0,79.5\" fill=\"currentColor\"/>\n",
       "</g>\n",
       "</svg></span>"
      ],
      "text/plain": [
       "<IPython.core.display.HTML object>"
      ]
     },
     "metadata": {},
     "output_type": "display_data"
    }
   ],
   "source": [
    "import spacy\n",
    "from spacy import displacy\n",
    "\n",
    "nlp = spacy.load(\"en_core_web_sm\")\n",
    "doc = nlp(\"Microchips are useful in making phones.\")\n",
    "displacy.render(doc, style=\"dep\", jupyter=True)"
   ]
  }
 ],
 "metadata": {
  "interpreter": {
   "hash": "194b4db0d9476141f3687e5015dd2b31ed6880918ce715e6e12114aaef5513d6"
  },
  "kernelspec": {
   "display_name": "Python 3.7.3 64-bit ('sit': conda)",
   "name": "python3"
  },
  "language_info": {
   "codemirror_mode": {
    "name": "ipython",
    "version": 3
   },
   "file_extension": ".py",
   "mimetype": "text/x-python",
   "name": "python",
   "nbconvert_exporter": "python",
   "pygments_lexer": "ipython3",
   "version": "3.7.3"
  },
  "orig_nbformat": 4
 },
 "nbformat": 4,
 "nbformat_minor": 2
}
