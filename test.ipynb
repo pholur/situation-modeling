{
 "cells": [
  {
   "cell_type": "code",
   "execution_count": 24,
   "source": [
    "from imports import *\n",
    "from data import *\n",
    "from arch import *\n",
    "model = return_token_model(CORE_MODEL, len(labels), preferred_cuda_test);\n",
    "#model.load_state_dict(torch.load(CHECKPOINT_PATH + ROOT_NAME + '3_17000.pt')[\"model_state_dict\"]);\n",
    "#model.load_state_dict(torch.load(\"/mnt/SSD2/pholur/CTs/checkpoints/Day_0928_Insider_Outsider_79_54480.pt\")[\"model_state_dict\"]);\n",
    "model.load_state_dict(torch.load(\"/mnt/SSD2/pholur/CTs/checkpoints/Day_0928_Insider_Outsider_20_14301.pt\")[\"model_state_dict\"]);\n",
    "model.eval();"
   ],
   "outputs": [
    {
     "output_type": "stream",
     "name": "stderr",
     "text": [
      "Some weights of the model checkpoint at roberta-base were not used when initializing RobertaForTokenClassification: ['lm_head.bias', 'lm_head.dense.weight', 'lm_head.dense.bias', 'lm_head.layer_norm.weight', 'lm_head.layer_norm.bias', 'lm_head.decoder.weight']\n",
      "- This IS expected if you are initializing RobertaForTokenClassification from the checkpoint of a model trained on another task or with another architecture (e.g. initializing a BertForSequenceClassification model from a BertForPreTraining model).\n",
      "- This IS NOT expected if you are initializing RobertaForTokenClassification from the checkpoint of a model that you expect to be exactly identical (initializing a BertForSequenceClassification model from a BertForSequenceClassification model).\n",
      "Some weights of RobertaForTokenClassification were not initialized from the model checkpoint at roberta-base and are newly initialized: ['classifier.weight', 'classifier.bias']\n",
      "You should probably TRAIN this model on a down-stream task to be able to use it for predictions and inference.\n"
     ]
    }
   ],
   "metadata": {}
  },
  {
   "cell_type": "code",
   "execution_count": 25,
   "source": [
    "from shared_train_and_test_functions import tokenization\n",
    "import spacy\n",
    "from spacy import displacy\n",
    "import nltk\n",
    "nlp = spacy.load('en_core_web_sm')\n",
    "# ONLY WORKS FOR SINGLE POST TESTING"
   ],
   "outputs": [],
   "metadata": {}
  },
  {
   "cell_type": "code",
   "execution_count": 26,
   "source": [
    "def return_insiders_and_outsiders(text):\n",
    "    doc = nlp(text)\n",
    "    add_np_text = []\n",
    "    spans = []\n",
    "    for npy in doc.noun_chunks:\n",
    "        add_np_text.append(npy.text)\n",
    "        spans.append((npy.start_char, npy.end_char))\n",
    "\n",
    "    test_encodings, tokens = tokenization([text], True)\n",
    "    offset_mappings = test_encodings.offset_mapping[0]\n",
    "\n",
    "    input_ids = torch.tensor(test_encodings['input_ids']).to(preferred_cuda_test)\n",
    "    attention_mask = torch.tensor(test_encodings['attention_mask']).to(preferred_cuda_test)\n",
    "    outputs = model(input_ids, attention_mask=attention_mask) # try this: labels = torch.tensor([0]*len(input_ids)).to(preferred_cuda_test))\n",
    "    predictions = outputs[0].detach().cpu().numpy()\n",
    "    single_prediction_post = predictions[0]\n",
    "    predictions_argmax = np.argmax(single_prediction_post, axis=1)\n",
    "    print(predictions_argmax)\n",
    "    ents = []\n",
    "    total_true = {}\n",
    "\n",
    "    for i in range(len(spans)):\n",
    "        total_true[i] = False\n",
    "    \n",
    "    for j in range(len(spans)):\n",
    "        \n",
    "        choice = \"no\"\n",
    "        for i,index in enumerate(predictions_argmax):\n",
    "            current_token_mapping = offset_mappings[i]\n",
    " \n",
    "            if current_token_mapping[0] >= spans[j][0] and current_token_mapping[1] <= spans[j][1]: # if the token is in the span of a chunk\n",
    "                if index == 2:\n",
    "                    choice = \"yes\"\n",
    "                else:\n",
    "                    choice = \"no\"\n",
    "\n",
    "        if choice == \"no\":\n",
    "            ents.append({\"start\": spans[j][0], \"end\": spans[j][1], \"label\": \"INSIDER\"})\n",
    "        else:\n",
    "            ents.append({\"start\": spans[j][0], \"end\": spans[j][1], \"label\": \"OUTSIDER\"})\n",
    "\n",
    "    # deduplicate list of dictionaries\n",
    "    ents = [dict(t) for t in {tuple(d.items()) for d in ents}]\n",
    "    # sort list of dictionaries by start index\n",
    "    ents = sorted(ents, key=lambda x: x['start'])\n",
    "    print(ents)\n",
    "    options = {\"colors\": {\"INSIDER\":\"#88C6F1\", \"OUTSIDER\":\"#FF82AB\"}}\n",
    "    ex = [{\"text\": text, \"ents\": ents}]\n",
    "    displacy.render(ex, style=\"ent\", manual=True, options=options)"
   ],
   "outputs": [],
   "metadata": {}
  },
  {
   "cell_type": "code",
   "execution_count": 27,
   "source": [
    "#posts = [\"I think that #BigTech will kill me with vaccines. People like Bill Gates are doing it for the money. My friend, Sarah, who is a doctor, told me not to get the vaccine, because it causes cancer.\"]\n",
    "posts = [\"5g causes cancer\", \"5g is good for the economy.\", \"We should burn cell phone towers.\", \"We should build cell phone towers.\", \"Radio waves are as potent as vaccines.\", \"Vaccines are not harmful.\", \"Microchips are telling the government where we are 24/7.\", \"Vaccines contain microchips.\", \\\n",
    "    \">doesn't make sense how is wanting safety for a new experimental drug not make sense? even if you got the vaccine you still run risk to get covid, need to isolate and wear a mask, and still have the same risk of death. the company even hid any side effects and threatened to sue anyone mentioning side effects. the people taking the vaccine now are just part of the testing trials, they are volunteer test subjects, since we don't even know long term effects or any effect past 1 year of taking it\"]\n",
    "#posts = [\"I think that #BigTech will save me with vaccines. People like Bill Gates are doing it to save people. My friend, Sarah, who is a doctor, told me to get the vaccine, because it does not causes small pox.\"]\n",
    "for p in posts:\n",
    "    return_insiders_and_outsiders(p)"
   ],
   "outputs": [
    {
     "output_type": "stream",
     "name": "stdout",
     "text": [
      "[2 2 2 2 2 2]\n",
      "[{'start': 0, 'end': 2, 'label': 'OUTSIDER'}, {'start': 10, 'end': 16, 'label': 'OUTSIDER'}]\n"
     ]
    },
    {
     "output_type": "display_data",
     "data": {
      "text/html": [
       "<span class=\"tex2jax_ignore\"><div class=\"entities\" style=\"line-height: 2.5; direction: ltr\">\n",
       "<mark class=\"entity\" style=\"background: #FF82AB; padding: 0.45em 0.6em; margin: 0 0.25em; line-height: 1; border-radius: 0.35em;\">\n",
       "    5g\n",
       "    <span style=\"font-size: 0.8em; font-weight: bold; line-height: 1; border-radius: 0.35em; vertical-align: middle; margin-left: 0.5rem\">OUTSIDER</span>\n",
       "</mark>\n",
       " causes \n",
       "<mark class=\"entity\" style=\"background: #FF82AB; padding: 0.45em 0.6em; margin: 0 0.25em; line-height: 1; border-radius: 0.35em;\">\n",
       "    cancer\n",
       "    <span style=\"font-size: 0.8em; font-weight: bold; line-height: 1; border-radius: 0.35em; vertical-align: middle; margin-left: 0.5rem\">OUTSIDER</span>\n",
       "</mark>\n",
       "</div></span>"
      ],
      "text/plain": [
       "<IPython.core.display.HTML object>"
      ]
     },
     "metadata": {}
    },
    {
     "output_type": "stream",
     "name": "stdout",
     "text": [
      "[2 0 2 0 0 0 2 0 2 0]\n",
      "[{'start': 0, 'end': 2, 'label': 'INSIDER'}, {'start': 15, 'end': 26, 'label': 'INSIDER'}]\n"
     ]
    },
    {
     "output_type": "display_data",
     "data": {
      "text/html": [
       "<span class=\"tex2jax_ignore\"><div class=\"entities\" style=\"line-height: 2.5; direction: ltr\">\n",
       "<mark class=\"entity\" style=\"background: #88C6F1; padding: 0.45em 0.6em; margin: 0 0.25em; line-height: 1; border-radius: 0.35em;\">\n",
       "    5g\n",
       "    <span style=\"font-size: 0.8em; font-weight: bold; line-height: 1; border-radius: 0.35em; vertical-align: middle; margin-left: 0.5rem\">INSIDER</span>\n",
       "</mark>\n",
       " is good for \n",
       "<mark class=\"entity\" style=\"background: #88C6F1; padding: 0.45em 0.6em; margin: 0 0.25em; line-height: 1; border-radius: 0.35em;\">\n",
       "    the economy\n",
       "    <span style=\"font-size: 0.8em; font-weight: bold; line-height: 1; border-radius: 0.35em; vertical-align: middle; margin-left: 0.5rem\">INSIDER</span>\n",
       "</mark>\n",
       ".</div></span>"
      ],
      "text/plain": [
       "<IPython.core.display.HTML object>"
      ]
     },
     "metadata": {}
    },
    {
     "output_type": "stream",
     "name": "stdout",
     "text": [
      "[2 0 0 0 2 2 2 2 0]\n",
      "[{'start': 0, 'end': 2, 'label': 'INSIDER'}, {'start': 15, 'end': 32, 'label': 'OUTSIDER'}]\n"
     ]
    },
    {
     "output_type": "display_data",
     "data": {
      "text/html": [
       "<span class=\"tex2jax_ignore\"><div class=\"entities\" style=\"line-height: 2.5; direction: ltr\">\n",
       "<mark class=\"entity\" style=\"background: #88C6F1; padding: 0.45em 0.6em; margin: 0 0.25em; line-height: 1; border-radius: 0.35em;\">\n",
       "    We\n",
       "    <span style=\"font-size: 0.8em; font-weight: bold; line-height: 1; border-radius: 0.35em; vertical-align: middle; margin-left: 0.5rem\">INSIDER</span>\n",
       "</mark>\n",
       " should burn \n",
       "<mark class=\"entity\" style=\"background: #FF82AB; padding: 0.45em 0.6em; margin: 0 0.25em; line-height: 1; border-radius: 0.35em;\">\n",
       "    cell phone towers\n",
       "    <span style=\"font-size: 0.8em; font-weight: bold; line-height: 1; border-radius: 0.35em; vertical-align: middle; margin-left: 0.5rem\">OUTSIDER</span>\n",
       "</mark>\n",
       ".</div></span>"
      ],
      "text/plain": [
       "<IPython.core.display.HTML object>"
      ]
     },
     "metadata": {}
    },
    {
     "output_type": "stream",
     "name": "stdout",
     "text": [
      "[2 0 0 0 0 0 0 2 0]\n",
      "[{'start': 0, 'end': 2, 'label': 'INSIDER'}, {'start': 16, 'end': 33, 'label': 'INSIDER'}]\n"
     ]
    },
    {
     "output_type": "display_data",
     "data": {
      "text/html": [
       "<span class=\"tex2jax_ignore\"><div class=\"entities\" style=\"line-height: 2.5; direction: ltr\">\n",
       "<mark class=\"entity\" style=\"background: #88C6F1; padding: 0.45em 0.6em; margin: 0 0.25em; line-height: 1; border-radius: 0.35em;\">\n",
       "    We\n",
       "    <span style=\"font-size: 0.8em; font-weight: bold; line-height: 1; border-radius: 0.35em; vertical-align: middle; margin-left: 0.5rem\">INSIDER</span>\n",
       "</mark>\n",
       " should build \n",
       "<mark class=\"entity\" style=\"background: #88C6F1; padding: 0.45em 0.6em; margin: 0 0.25em; line-height: 1; border-radius: 0.35em;\">\n",
       "    cell phone towers\n",
       "    <span style=\"font-size: 0.8em; font-weight: bold; line-height: 1; border-radius: 0.35em; vertical-align: middle; margin-left: 0.5rem\">INSIDER</span>\n",
       "</mark>\n",
       ".</div></span>"
      ],
      "text/plain": [
       "<IPython.core.display.HTML object>"
      ]
     },
     "metadata": {}
    },
    {
     "output_type": "stream",
     "name": "stdout",
     "text": [
      "[2 2 2 2 2 2 2 2 2 2]\n",
      "[{'start': 0, 'end': 11, 'label': 'OUTSIDER'}, {'start': 29, 'end': 37, 'label': 'OUTSIDER'}]\n"
     ]
    },
    {
     "output_type": "display_data",
     "data": {
      "text/html": [
       "<span class=\"tex2jax_ignore\"><div class=\"entities\" style=\"line-height: 2.5; direction: ltr\">\n",
       "<mark class=\"entity\" style=\"background: #FF82AB; padding: 0.45em 0.6em; margin: 0 0.25em; line-height: 1; border-radius: 0.35em;\">\n",
       "    Radio waves\n",
       "    <span style=\"font-size: 0.8em; font-weight: bold; line-height: 1; border-radius: 0.35em; vertical-align: middle; margin-left: 0.5rem\">OUTSIDER</span>\n",
       "</mark>\n",
       " are as potent as \n",
       "<mark class=\"entity\" style=\"background: #FF82AB; padding: 0.45em 0.6em; margin: 0 0.25em; line-height: 1; border-radius: 0.35em;\">\n",
       "    vaccines\n",
       "    <span style=\"font-size: 0.8em; font-weight: bold; line-height: 1; border-radius: 0.35em; vertical-align: middle; margin-left: 0.5rem\">OUTSIDER</span>\n",
       "</mark>\n",
       ".</div></span>"
      ],
      "text/plain": [
       "<IPython.core.display.HTML object>"
      ]
     },
     "metadata": {}
    },
    {
     "output_type": "stream",
     "name": "stdout",
     "text": [
      "[2 2 2 2 0 2 2 2 0]\n",
      "[{'start': 0, 'end': 8, 'label': 'INSIDER'}]\n"
     ]
    },
    {
     "output_type": "display_data",
     "data": {
      "text/html": [
       "<span class=\"tex2jax_ignore\"><div class=\"entities\" style=\"line-height: 2.5; direction: ltr\">\n",
       "<mark class=\"entity\" style=\"background: #88C6F1; padding: 0.45em 0.6em; margin: 0 0.25em; line-height: 1; border-radius: 0.35em;\">\n",
       "    Vaccines\n",
       "    <span style=\"font-size: 0.8em; font-weight: bold; line-height: 1; border-radius: 0.35em; vertical-align: middle; margin-left: 0.5rem\">INSIDER</span>\n",
       "</mark>\n",
       " are not harmful.</div></span>"
      ],
      "text/plain": [
       "<IPython.core.display.HTML object>"
      ]
     },
     "metadata": {}
    },
    {
     "output_type": "stream",
     "name": "stdout",
     "text": [
      "[2 2 2 2 0 2 2 2 2 0 0 2 2 2 2 2]\n",
      "[{'start': 0, 'end': 10, 'label': 'OUTSIDER'}, {'start': 23, 'end': 37, 'label': 'OUTSIDER'}, {'start': 44, 'end': 46, 'label': 'INSIDER'}]\n"
     ]
    },
    {
     "output_type": "display_data",
     "data": {
      "text/html": [
       "<span class=\"tex2jax_ignore\"><div class=\"entities\" style=\"line-height: 2.5; direction: ltr\">\n",
       "<mark class=\"entity\" style=\"background: #FF82AB; padding: 0.45em 0.6em; margin: 0 0.25em; line-height: 1; border-radius: 0.35em;\">\n",
       "    Microchips\n",
       "    <span style=\"font-size: 0.8em; font-weight: bold; line-height: 1; border-radius: 0.35em; vertical-align: middle; margin-left: 0.5rem\">OUTSIDER</span>\n",
       "</mark>\n",
       " are telling \n",
       "<mark class=\"entity\" style=\"background: #FF82AB; padding: 0.45em 0.6em; margin: 0 0.25em; line-height: 1; border-radius: 0.35em;\">\n",
       "    the government\n",
       "    <span style=\"font-size: 0.8em; font-weight: bold; line-height: 1; border-radius: 0.35em; vertical-align: middle; margin-left: 0.5rem\">OUTSIDER</span>\n",
       "</mark>\n",
       " where \n",
       "<mark class=\"entity\" style=\"background: #88C6F1; padding: 0.45em 0.6em; margin: 0 0.25em; line-height: 1; border-radius: 0.35em;\">\n",
       "    we\n",
       "    <span style=\"font-size: 0.8em; font-weight: bold; line-height: 1; border-radius: 0.35em; vertical-align: middle; margin-left: 0.5rem\">INSIDER</span>\n",
       "</mark>\n",
       " are 24/7.</div></span>"
      ],
      "text/plain": [
       "<IPython.core.display.HTML object>"
      ]
     },
     "metadata": {}
    },
    {
     "output_type": "stream",
     "name": "stdout",
     "text": [
      "[2 2 2 2 2 2 2 2 2 0]\n",
      "[{'start': 0, 'end': 8, 'label': 'INSIDER'}, {'start': 17, 'end': 27, 'label': 'OUTSIDER'}]\n"
     ]
    },
    {
     "output_type": "display_data",
     "data": {
      "text/html": [
       "<span class=\"tex2jax_ignore\"><div class=\"entities\" style=\"line-height: 2.5; direction: ltr\">\n",
       "<mark class=\"entity\" style=\"background: #88C6F1; padding: 0.45em 0.6em; margin: 0 0.25em; line-height: 1; border-radius: 0.35em;\">\n",
       "    Vaccines\n",
       "    <span style=\"font-size: 0.8em; font-weight: bold; line-height: 1; border-radius: 0.35em; vertical-align: middle; margin-left: 0.5rem\">INSIDER</span>\n",
       "</mark>\n",
       " contain \n",
       "<mark class=\"entity\" style=\"background: #FF82AB; padding: 0.45em 0.6em; margin: 0 0.25em; line-height: 1; border-radius: 0.35em;\">\n",
       "    microchips\n",
       "    <span style=\"font-size: 0.8em; font-weight: bold; line-height: 1; border-radius: 0.35em; vertical-align: middle; margin-left: 0.5rem\">OUTSIDER</span>\n",
       "</mark>\n",
       ".</div></span>"
      ],
      "text/plain": [
       "<IPython.core.display.HTML object>"
      ]
     },
     "metadata": {}
    },
    {
     "output_type": "stream",
     "name": "stdout",
     "text": [
      "[2 2 2 2 2 2 2 0 2 0 2 2 2 2 2 2 2 2 2 0 0 1 0 2 2 1 2 2 2 2 2 2 2 2 2 2 0\n",
      " 0 2 2 2 1 1 2 2 2 2 2 2 2 2 2 2 2 2 2 2 2 2 2 2 2 2 2 2 2 2 2 0 0 2 2 0 0\n",
      " 0 1 1 2 0 0 2 2 0 0 0 0 2 0 0 0 0 0 0 2 2 2 2 2 2 0 0 0 2 0 0 2]\n",
      "[{'start': 14, 'end': 19, 'label': 'OUTSIDER'}, {'start': 35, 'end': 41, 'label': 'INSIDER'}, {'start': 46, 'end': 69, 'label': 'OUTSIDER'}, {'start': 79, 'end': 84, 'label': 'OUTSIDER'}, {'start': 94, 'end': 97, 'label': 'INSIDER'}, {'start': 102, 'end': 113, 'label': 'OUTSIDER'}, {'start': 114, 'end': 117, 'label': 'INSIDER'}, {'start': 128, 'end': 132, 'label': 'OUTSIDER'}, {'start': 140, 'end': 145, 'label': 'OUTSIDER'}, {'start': 172, 'end': 178, 'label': 'OUTSIDER'}, {'start': 195, 'end': 208, 'label': 'OUTSIDER'}, {'start': 212, 'end': 217, 'label': 'OUTSIDER'}, {'start': 219, 'end': 230, 'label': 'OUTSIDER'}, {'start': 240, 'end': 256, 'label': 'OUTSIDER'}, {'start': 279, 'end': 285, 'label': 'OUTSIDER'}, {'start': 297, 'end': 309, 'label': 'OUTSIDER'}, {'start': 311, 'end': 321, 'label': 'INSIDER'}, {'start': 329, 'end': 340, 'label': 'OUTSIDER'}, {'start': 349, 'end': 358, 'label': 'INSIDER'}, {'start': 362, 'end': 380, 'label': 'INSIDER'}, {'start': 382, 'end': 386, 'label': 'OUTSIDER'}, {'start': 391, 'end': 414, 'label': 'INSIDER'}, {'start': 422, 'end': 424, 'label': 'INSIDER'}, {'start': 441, 'end': 458, 'label': 'OUTSIDER'}, {'start': 462, 'end': 472, 'label': 'OUTSIDER'}, {'start': 478, 'end': 484, 'label': 'INSIDER'}, {'start': 495, 'end': 497, 'label': 'INSIDER'}]\n"
     ]
    },
    {
     "output_type": "display_data",
     "data": {
      "text/html": [
       "<span class=\"tex2jax_ignore\"><div class=\"entities\" style=\"line-height: 2.5; direction: ltr\">&gt;doesn't make \n",
       "<mark class=\"entity\" style=\"background: #FF82AB; padding: 0.45em 0.6em; margin: 0 0.25em; line-height: 1; border-radius: 0.35em;\">\n",
       "    sense\n",
       "    <span style=\"font-size: 0.8em; font-weight: bold; line-height: 1; border-radius: 0.35em; vertical-align: middle; margin-left: 0.5rem\">OUTSIDER</span>\n",
       "</mark>\n",
       " how is wanting \n",
       "<mark class=\"entity\" style=\"background: #88C6F1; padding: 0.45em 0.6em; margin: 0 0.25em; line-height: 1; border-radius: 0.35em;\">\n",
       "    safety\n",
       "    <span style=\"font-size: 0.8em; font-weight: bold; line-height: 1; border-radius: 0.35em; vertical-align: middle; margin-left: 0.5rem\">INSIDER</span>\n",
       "</mark>\n",
       " for \n",
       "<mark class=\"entity\" style=\"background: #FF82AB; padding: 0.45em 0.6em; margin: 0 0.25em; line-height: 1; border-radius: 0.35em;\">\n",
       "    a new experimental drug\n",
       "    <span style=\"font-size: 0.8em; font-weight: bold; line-height: 1; border-radius: 0.35em; vertical-align: middle; margin-left: 0.5rem\">OUTSIDER</span>\n",
       "</mark>\n",
       " not make \n",
       "<mark class=\"entity\" style=\"background: #FF82AB; padding: 0.45em 0.6em; margin: 0 0.25em; line-height: 1; border-radius: 0.35em;\">\n",
       "    sense\n",
       "    <span style=\"font-size: 0.8em; font-weight: bold; line-height: 1; border-radius: 0.35em; vertical-align: middle; margin-left: 0.5rem\">OUTSIDER</span>\n",
       "</mark>\n",
       "? even if \n",
       "<mark class=\"entity\" style=\"background: #88C6F1; padding: 0.45em 0.6em; margin: 0 0.25em; line-height: 1; border-radius: 0.35em;\">\n",
       "    you\n",
       "    <span style=\"font-size: 0.8em; font-weight: bold; line-height: 1; border-radius: 0.35em; vertical-align: middle; margin-left: 0.5rem\">INSIDER</span>\n",
       "</mark>\n",
       " got \n",
       "<mark class=\"entity\" style=\"background: #FF82AB; padding: 0.45em 0.6em; margin: 0 0.25em; line-height: 1; border-radius: 0.35em;\">\n",
       "    the vaccine\n",
       "    <span style=\"font-size: 0.8em; font-weight: bold; line-height: 1; border-radius: 0.35em; vertical-align: middle; margin-left: 0.5rem\">OUTSIDER</span>\n",
       "</mark>\n",
       " \n",
       "<mark class=\"entity\" style=\"background: #88C6F1; padding: 0.45em 0.6em; margin: 0 0.25em; line-height: 1; border-radius: 0.35em;\">\n",
       "    you\n",
       "    <span style=\"font-size: 0.8em; font-weight: bold; line-height: 1; border-radius: 0.35em; vertical-align: middle; margin-left: 0.5rem\">INSIDER</span>\n",
       "</mark>\n",
       " still run \n",
       "<mark class=\"entity\" style=\"background: #FF82AB; padding: 0.45em 0.6em; margin: 0 0.25em; line-height: 1; border-radius: 0.35em;\">\n",
       "    risk\n",
       "    <span style=\"font-size: 0.8em; font-weight: bold; line-height: 1; border-radius: 0.35em; vertical-align: middle; margin-left: 0.5rem\">OUTSIDER</span>\n",
       "</mark>\n",
       " to get \n",
       "<mark class=\"entity\" style=\"background: #FF82AB; padding: 0.45em 0.6em; margin: 0 0.25em; line-height: 1; border-radius: 0.35em;\">\n",
       "    covid\n",
       "    <span style=\"font-size: 0.8em; font-weight: bold; line-height: 1; border-radius: 0.35em; vertical-align: middle; margin-left: 0.5rem\">OUTSIDER</span>\n",
       "</mark>\n",
       ", need to isolate and wear \n",
       "<mark class=\"entity\" style=\"background: #FF82AB; padding: 0.45em 0.6em; margin: 0 0.25em; line-height: 1; border-radius: 0.35em;\">\n",
       "    a mask\n",
       "    <span style=\"font-size: 0.8em; font-weight: bold; line-height: 1; border-radius: 0.35em; vertical-align: middle; margin-left: 0.5rem\">OUTSIDER</span>\n",
       "</mark>\n",
       ", and still have \n",
       "<mark class=\"entity\" style=\"background: #FF82AB; padding: 0.45em 0.6em; margin: 0 0.25em; line-height: 1; border-radius: 0.35em;\">\n",
       "    the same risk\n",
       "    <span style=\"font-size: 0.8em; font-weight: bold; line-height: 1; border-radius: 0.35em; vertical-align: middle; margin-left: 0.5rem\">OUTSIDER</span>\n",
       "</mark>\n",
       " of \n",
       "<mark class=\"entity\" style=\"background: #FF82AB; padding: 0.45em 0.6em; margin: 0 0.25em; line-height: 1; border-radius: 0.35em;\">\n",
       "    death\n",
       "    <span style=\"font-size: 0.8em; font-weight: bold; line-height: 1; border-radius: 0.35em; vertical-align: middle; margin-left: 0.5rem\">OUTSIDER</span>\n",
       "</mark>\n",
       ". \n",
       "<mark class=\"entity\" style=\"background: #FF82AB; padding: 0.45em 0.6em; margin: 0 0.25em; line-height: 1; border-radius: 0.35em;\">\n",
       "    the company\n",
       "    <span style=\"font-size: 0.8em; font-weight: bold; line-height: 1; border-radius: 0.35em; vertical-align: middle; margin-left: 0.5rem\">OUTSIDER</span>\n",
       "</mark>\n",
       " even hid \n",
       "<mark class=\"entity\" style=\"background: #FF82AB; padding: 0.45em 0.6em; margin: 0 0.25em; line-height: 1; border-radius: 0.35em;\">\n",
       "    any side effects\n",
       "    <span style=\"font-size: 0.8em; font-weight: bold; line-height: 1; border-radius: 0.35em; vertical-align: middle; margin-left: 0.5rem\">OUTSIDER</span>\n",
       "</mark>\n",
       " and threatened to sue \n",
       "<mark class=\"entity\" style=\"background: #FF82AB; padding: 0.45em 0.6em; margin: 0 0.25em; line-height: 1; border-radius: 0.35em;\">\n",
       "    anyone\n",
       "    <span style=\"font-size: 0.8em; font-weight: bold; line-height: 1; border-radius: 0.35em; vertical-align: middle; margin-left: 0.5rem\">OUTSIDER</span>\n",
       "</mark>\n",
       " mentioning \n",
       "<mark class=\"entity\" style=\"background: #FF82AB; padding: 0.45em 0.6em; margin: 0 0.25em; line-height: 1; border-radius: 0.35em;\">\n",
       "    side effects\n",
       "    <span style=\"font-size: 0.8em; font-weight: bold; line-height: 1; border-radius: 0.35em; vertical-align: middle; margin-left: 0.5rem\">OUTSIDER</span>\n",
       "</mark>\n",
       ". \n",
       "<mark class=\"entity\" style=\"background: #88C6F1; padding: 0.45em 0.6em; margin: 0 0.25em; line-height: 1; border-radius: 0.35em;\">\n",
       "    the people\n",
       "    <span style=\"font-size: 0.8em; font-weight: bold; line-height: 1; border-radius: 0.35em; vertical-align: middle; margin-left: 0.5rem\">INSIDER</span>\n",
       "</mark>\n",
       " taking \n",
       "<mark class=\"entity\" style=\"background: #FF82AB; padding: 0.45em 0.6em; margin: 0 0.25em; line-height: 1; border-radius: 0.35em;\">\n",
       "    the vaccine\n",
       "    <span style=\"font-size: 0.8em; font-weight: bold; line-height: 1; border-radius: 0.35em; vertical-align: middle; margin-left: 0.5rem\">OUTSIDER</span>\n",
       "</mark>\n",
       " now are \n",
       "<mark class=\"entity\" style=\"background: #88C6F1; padding: 0.45em 0.6em; margin: 0 0.25em; line-height: 1; border-radius: 0.35em;\">\n",
       "    just part\n",
       "    <span style=\"font-size: 0.8em; font-weight: bold; line-height: 1; border-radius: 0.35em; vertical-align: middle; margin-left: 0.5rem\">INSIDER</span>\n",
       "</mark>\n",
       " of \n",
       "<mark class=\"entity\" style=\"background: #88C6F1; padding: 0.45em 0.6em; margin: 0 0.25em; line-height: 1; border-radius: 0.35em;\">\n",
       "    the testing trials\n",
       "    <span style=\"font-size: 0.8em; font-weight: bold; line-height: 1; border-radius: 0.35em; vertical-align: middle; margin-left: 0.5rem\">INSIDER</span>\n",
       "</mark>\n",
       ", \n",
       "<mark class=\"entity\" style=\"background: #FF82AB; padding: 0.45em 0.6em; margin: 0 0.25em; line-height: 1; border-radius: 0.35em;\">\n",
       "    they\n",
       "    <span style=\"font-size: 0.8em; font-weight: bold; line-height: 1; border-radius: 0.35em; vertical-align: middle; margin-left: 0.5rem\">OUTSIDER</span>\n",
       "</mark>\n",
       " are \n",
       "<mark class=\"entity\" style=\"background: #88C6F1; padding: 0.45em 0.6em; margin: 0 0.25em; line-height: 1; border-radius: 0.35em;\">\n",
       "    volunteer test subjects\n",
       "    <span style=\"font-size: 0.8em; font-weight: bold; line-height: 1; border-radius: 0.35em; vertical-align: middle; margin-left: 0.5rem\">INSIDER</span>\n",
       "</mark>\n",
       ", since \n",
       "<mark class=\"entity\" style=\"background: #88C6F1; padding: 0.45em 0.6em; margin: 0 0.25em; line-height: 1; border-radius: 0.35em;\">\n",
       "    we\n",
       "    <span style=\"font-size: 0.8em; font-weight: bold; line-height: 1; border-radius: 0.35em; vertical-align: middle; margin-left: 0.5rem\">INSIDER</span>\n",
       "</mark>\n",
       " don't even know \n",
       "<mark class=\"entity\" style=\"background: #FF82AB; padding: 0.45em 0.6em; margin: 0 0.25em; line-height: 1; border-radius: 0.35em;\">\n",
       "    long term effects\n",
       "    <span style=\"font-size: 0.8em; font-weight: bold; line-height: 1; border-radius: 0.35em; vertical-align: middle; margin-left: 0.5rem\">OUTSIDER</span>\n",
       "</mark>\n",
       " or \n",
       "<mark class=\"entity\" style=\"background: #FF82AB; padding: 0.45em 0.6em; margin: 0 0.25em; line-height: 1; border-radius: 0.35em;\">\n",
       "    any effect\n",
       "    <span style=\"font-size: 0.8em; font-weight: bold; line-height: 1; border-radius: 0.35em; vertical-align: middle; margin-left: 0.5rem\">OUTSIDER</span>\n",
       "</mark>\n",
       " past \n",
       "<mark class=\"entity\" style=\"background: #88C6F1; padding: 0.45em 0.6em; margin: 0 0.25em; line-height: 1; border-radius: 0.35em;\">\n",
       "    1 year\n",
       "    <span style=\"font-size: 0.8em; font-weight: bold; line-height: 1; border-radius: 0.35em; vertical-align: middle; margin-left: 0.5rem\">INSIDER</span>\n",
       "</mark>\n",
       " of taking \n",
       "<mark class=\"entity\" style=\"background: #88C6F1; padding: 0.45em 0.6em; margin: 0 0.25em; line-height: 1; border-radius: 0.35em;\">\n",
       "    it\n",
       "    <span style=\"font-size: 0.8em; font-weight: bold; line-height: 1; border-radius: 0.35em; vertical-align: middle; margin-left: 0.5rem\">INSIDER</span>\n",
       "</mark>\n",
       "</div></span>"
      ],
      "text/plain": [
       "<IPython.core.display.HTML object>"
      ]
     },
     "metadata": {}
    }
   ],
   "metadata": {}
  },
  {
   "cell_type": "code",
   "execution_count": 28,
   "source": [
    "test_loss = 0\n",
    "number_of_test_batches = 0\n",
    "test_loader = get_data(INPUT_DATA_PATH, FLAG, AUG, REEXTRACT, FRACTION, \"test\")\n",
    "\n",
    "for j,test_batch in enumerate(test_loader):\n",
    "    input_ids = test_batch['input_ids'].to(preferred_cuda_test)\n",
    "    attention_mask = test_batch['attention_mask'].to(preferred_cuda_test)\n",
    "    labels = test_batch['labels'].to(preferred_cuda_test)\n",
    "    with torch.no_grad():\n",
    "        outputs = model(input_ids, attention_mask=attention_mask, labels=labels)\n",
    "        test_loss += outputs[0]\n",
    "    number_of_test_batches += 1\n",
    "print(\"Total test loss:\", test_loss/number_of_test_batches)"
   ],
   "outputs": [
    {
     "output_type": "stream",
     "name": "stdout",
     "text": [
      "Using separate samples per entity: Size =  648\n",
      "Total test loss: tensor(0.8864, device='cuda:1')\n"
     ]
    }
   ],
   "metadata": {}
  }
 ],
 "metadata": {
  "orig_nbformat": 4,
  "language_info": {
   "name": "python",
   "version": "3.7.3",
   "mimetype": "text/x-python",
   "codemirror_mode": {
    "name": "ipython",
    "version": 3
   },
   "pygments_lexer": "ipython3",
   "nbconvert_exporter": "python",
   "file_extension": ".py"
  },
  "kernelspec": {
   "name": "python3",
   "display_name": "Python 3.7.3 64-bit ('sit': conda)"
  },
  "interpreter": {
   "hash": "37d3506361144379a82906a039c4df0bf6bb606682fe5049d721b3723dae7468"
  }
 },
 "nbformat": 4,
 "nbformat_minor": 2
}