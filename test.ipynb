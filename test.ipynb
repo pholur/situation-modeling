{
 "cells": [
  {
   "cell_type": "code",
   "execution_count": 6,
   "source": [
    "from custom_model import *\n",
    "import warnings\n",
    "warnings.simplefilter(action='ignore', category=FutureWarning)\n",
    "model = return_model()"
   ],
   "outputs": [
    {
     "output_type": "stream",
     "name": "stderr",
     "text": [
      "Some weights of the model checkpoint at distilbert-base-uncased were not used when initializing DistilBertModel: ['vocab_projector.bias', 'vocab_layer_norm.bias', 'vocab_layer_norm.weight', 'vocab_transform.bias', 'vocab_projector.weight', 'vocab_transform.weight']\n",
      "- This IS expected if you are initializing DistilBertModel from the checkpoint of a model trained on another task or with another architecture (e.g. initializing a BertForSequenceClassification model from a BertForPreTraining model).\n",
      "- This IS NOT expected if you are initializing DistilBertModel from the checkpoint of a model that you expect to be exactly identical (initializing a BertForSequenceClassification model from a BertForSequenceClassification model).\n"
     ]
    }
   ],
   "metadata": {}
  },
  {
   "cell_type": "code",
   "execution_count": 13,
   "source": [
    "model(*decide_set(\"I am cool as hell.\")[:2]).shape"
   ],
   "outputs": [
    {
     "output_type": "execute_result",
     "data": {
      "text/plain": [
       "torch.Size([1, 512, 768])"
      ]
     },
     "metadata": {},
     "execution_count": 13
    }
   ],
   "metadata": {}
  },
  {
   "cell_type": "code",
   "execution_count": 9,
   "source": [
    "def tokenize_and_mask(text):\n",
    "    total_ids = []\n",
    "    total_mask = []\n",
    "    for sample in text:\n",
    "        text_raw = str(sample)\n",
    "\n",
    "        inputs = tokenizer.encode_plus(\n",
    "            text_raw,\n",
    "            None,\n",
    "            add_special_tokens=True,\n",
    "            max_length=max_len,\n",
    "            pad_to_max_length=True,\n",
    "            return_token_type_ids=True\n",
    "        )\n",
    "\n",
    "        ids = inputs['input_ids']\n",
    "        mask = inputs['attention_mask']\n",
    "        total_ids.append(ids)\n",
    "        total_mask.append(mask)\n",
    "\n",
    "    return torch.tensor(np.array(total_ids), dtype=torch.long).to(device, dtype = torch.long), torch.tensor(np.array(total_mask), dtype=torch.long).to(device, dtype = torch.long)"
   ],
   "outputs": [],
   "metadata": {}
  },
  {
   "cell_type": "code",
   "execution_count": 14,
   "source": [
    "model(*tokenize_and_mask([\"I am cool as hell.\", \"Shadi is also cool.\"])[:2]).shape"
   ],
   "outputs": [
    {
     "output_type": "execute_result",
     "data": {
      "text/plain": [
       "torch.Size([2, 512, 768])"
      ]
     },
     "metadata": {},
     "execution_count": 14
    }
   ],
   "metadata": {}
  },
  {
   "cell_type": "code",
   "execution_count": 15,
   "source": [
    "def softXEnt (input, target):\n",
    "    logprobs = torch.nn.functional.log_softmax(decoder(input), dim = 1)\n",
    "    return  -(target * logprobs).sum() / input.shape[0]"
   ],
   "outputs": [],
   "metadata": {}
  },
  {
   "cell_type": "code",
   "execution_count": null,
   "source": [],
   "outputs": [],
   "metadata": {}
  }
 ],
 "metadata": {
  "orig_nbformat": 4,
  "language_info": {
   "name": "python",
   "version": "3.9.5",
   "mimetype": "text/x-python",
   "codemirror_mode": {
    "name": "ipython",
    "version": 3
   },
   "pygments_lexer": "ipython3",
   "nbconvert_exporter": "python",
   "file_extension": ".py"
  },
  "kernelspec": {
   "name": "python3",
   "display_name": "Python 3.9.5 64-bit ('im2concept': conda)"
  },
  "interpreter": {
   "hash": "bbeddcf0d6c524619cf5080d9874469eb19e3d0036fdbfd331bf6f437523493a"
  }
 },
 "nbformat": 4,
 "nbformat_minor": 2
}