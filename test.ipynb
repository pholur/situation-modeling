{
 "cells": [
  {
   "cell_type": "code",
   "execution_count": 1,
   "source": [
    "from imports import *\n",
    "from arch import *\n",
    "model = return_token_model('distilbert-base-uncased', len(labels), preferred_cuda_test);\n",
    "model.load_state_dict(torch.load(CHECKPOINT_PATH + ROOT_NAME + '2_12750.pt')[\"model_state_dict\"]);\n",
    "model.eval();"
   ],
   "outputs": [
    {
     "output_type": "stream",
     "name": "stderr",
     "text": [
      "Some weights of the model checkpoint at distilbert-base-uncased were not used when initializing DistilBertForTokenClassification: ['vocab_transform.weight', 'vocab_transform.bias', 'vocab_layer_norm.weight', 'vocab_layer_norm.bias', 'vocab_projector.weight', 'vocab_projector.bias']\n",
      "- This IS expected if you are initializing DistilBertForTokenClassification from the checkpoint of a model trained on another task or with another architecture (e.g. initializing a BertForSequenceClassification model from a BertForPreTraining model).\n",
      "- This IS NOT expected if you are initializing DistilBertForTokenClassification from the checkpoint of a model that you expect to be exactly identical (initializing a BertForSequenceClassification model from a BertForSequenceClassification model).\n",
      "Some weights of DistilBertForTokenClassification were not initialized from the model checkpoint at distilbert-base-uncased and are newly initialized: ['classifier.weight', 'classifier.bias']\n",
      "You should probably TRAIN this model on a down-stream task to be able to use it for predictions and inference.\n"
     ]
    }
   ],
   "metadata": {}
  },
  {
   "cell_type": "code",
   "execution_count": 2,
   "source": [
    "from shared_train_and_test_functions import tokenization\n",
    "# ONLY WORKS FOR SINGLE POST TESTING\n",
    "post = [\"I am positive that Covid vaccines are bad.\"]\n",
    "\n",
    "import nltk\n",
    "words = nltk.word_tokenize(post[0])\n",
    "test_encodings, tokens = tokenization(post, True)\n",
    "print(test_encodings, tokens)\n",
    "print(len(post[0]))"
   ],
   "outputs": [
    {
     "output_type": "stream",
     "name": "stdout",
     "text": [
      "{'input_ids': [[101, 1045, 2572, 3893, 2008, 2522, 17258, 28896, 2024, 2919, 1012, 102]], 'attention_mask': [[1, 1, 1, 1, 1, 1, 1, 1, 1, 1, 1, 1]], 'offset_mapping': [[(0, 0), (0, 1), (2, 4), (5, 13), (14, 18), (19, 21), (21, 24), (25, 33), (34, 37), (38, 41), (41, 42), (0, 0)]]} ['[CLS]', 'i', 'am', 'positive', 'that', 'co', '##vid', 'vaccines', 'are', 'bad', '.', '[SEP]']\n",
      "42\n"
     ]
    }
   ],
   "metadata": {}
  },
  {
   "cell_type": "code",
   "execution_count": 3,
   "source": [
    "input_ids = torch.tensor(test_encodings['input_ids']).to(preferred_cuda_test)\n",
    "attention_mask = torch.tensor(test_encodings['attention_mask']).to(preferred_cuda_test)\n",
    "outputs = model(input_ids, attention_mask=attention_mask) # try this: labels = torch.tensor([0]*len(input_ids)).to(preferred_cuda_test))\n",
    "predictions = outputs[0].detach().cpu().numpy()\n",
    "print(predictions)\n",
    "single_prediction_post = predictions[0]\n",
    "# arg max on each row\n",
    "predictions_argmax = np.argmax(single_prediction_post, axis=1)\n",
    "print(predictions_argmax)"
   ],
   "outputs": [
    {
     "output_type": "stream",
     "name": "stdout",
     "text": [
      "[[[ 4.288851   -1.8353655  -1.975081  ]\n",
      "  [ 4.9777536  -1.0429281  -3.4052281 ]\n",
      "  [ 5.441175   -1.560985   -3.2416413 ]\n",
      "  [ 3.4962287  -1.9294155  -1.6872611 ]\n",
      "  [ 1.877359   -2.2214005   0.28020906]\n",
      "  [ 0.98067564 -3.0352888   2.3563764 ]\n",
      "  [-1.0166444  -2.932358    3.4987018 ]\n",
      "  [-0.7718418  -2.4467847   2.953644  ]\n",
      "  [ 4.081329   -1.4025064  -1.7969477 ]\n",
      "  [-0.62212163 -2.331483    2.8353157 ]\n",
      "  [ 0.44208255 -2.1755955   1.9302607 ]\n",
      "  [ 4.7132397  -2.0740929  -2.0252438 ]]]\n",
      "[0 0 0 0 0 2 2 2 0 2 2 0]\n"
     ]
    }
   ],
   "metadata": {}
  },
  {
   "cell_type": "code",
   "execution_count": 5,
   "source": [
    "for i,index in enumerate(predictions_argmax):\n",
    "    if tokens[i] in [\"i\", \"co\", \"##vid\", \"vaccines\"]:\n",
    "        label = True\n",
    "    else:\n",
    "        label = False\n",
    "    print(reverse_labels[index] + \" ---> \" + tokens[i] + \" ---> \" + \"entity?\" + \" ---> \" + label)"
   ],
   "outputs": [
    {
     "output_type": "error",
     "ename": "NameError",
     "evalue": "name 'token' is not defined",
     "traceback": [
      "\u001b[0;31m---------------------------------------------------------------------------\u001b[0m",
      "\u001b[0;31mNameError\u001b[0m                                 Traceback (most recent call last)",
      "\u001b[0;32m<ipython-input-5-52de1fe7d76e>\u001b[0m in \u001b[0;36m<module>\u001b[0;34m\u001b[0m\n\u001b[1;32m      1\u001b[0m \u001b[0;32mfor\u001b[0m \u001b[0mi\u001b[0m\u001b[0;34m,\u001b[0m\u001b[0mindex\u001b[0m \u001b[0;32min\u001b[0m \u001b[0menumerate\u001b[0m\u001b[0;34m(\u001b[0m\u001b[0mpredictions_argmax\u001b[0m\u001b[0;34m)\u001b[0m\u001b[0;34m:\u001b[0m\u001b[0;34m\u001b[0m\u001b[0;34m\u001b[0m\u001b[0m\n\u001b[0;32m----> 2\u001b[0;31m     \u001b[0;32mif\u001b[0m \u001b[0mtoken\u001b[0m\u001b[0;34m[\u001b[0m\u001b[0mi\u001b[0m\u001b[0;34m]\u001b[0m \u001b[0;32min\u001b[0m \u001b[0;34m[\u001b[0m\u001b[0;34m\"i\"\u001b[0m\u001b[0;34m,\u001b[0m \u001b[0;34m\"co\"\u001b[0m\u001b[0;34m,\u001b[0m \u001b[0;34m\"##vid\"\u001b[0m\u001b[0;34m,\u001b[0m \u001b[0;34m\"vaccines\"\u001b[0m\u001b[0;34m]\u001b[0m\u001b[0;34m:\u001b[0m\u001b[0;34m\u001b[0m\u001b[0;34m\u001b[0m\u001b[0m\n\u001b[0m\u001b[1;32m      3\u001b[0m         \u001b[0mlabel\u001b[0m \u001b[0;34m=\u001b[0m \u001b[0;32mTrue\u001b[0m\u001b[0;34m\u001b[0m\u001b[0;34m\u001b[0m\u001b[0m\n\u001b[1;32m      4\u001b[0m     \u001b[0;32melse\u001b[0m\u001b[0;34m:\u001b[0m\u001b[0;34m\u001b[0m\u001b[0;34m\u001b[0m\u001b[0m\n\u001b[1;32m      5\u001b[0m         \u001b[0mlabel\u001b[0m \u001b[0;34m=\u001b[0m \u001b[0;32mFalse\u001b[0m\u001b[0;34m\u001b[0m\u001b[0;34m\u001b[0m\u001b[0m\n",
      "\u001b[0;31mNameError\u001b[0m: name 'token' is not defined"
     ]
    }
   ],
   "metadata": {}
  }
 ],
 "metadata": {
  "orig_nbformat": 4,
  "language_info": {
   "name": "python",
   "version": "3.7.3",
   "mimetype": "text/x-python",
   "codemirror_mode": {
    "name": "ipython",
    "version": 3
   },
   "pygments_lexer": "ipython3",
   "nbconvert_exporter": "python",
   "file_extension": ".py"
  },
  "kernelspec": {
   "name": "python3",
   "display_name": "Python 3.7.3 64-bit ('sit': conda)"
  },
  "interpreter": {
   "hash": "37d3506361144379a82906a039c4df0bf6bb606682fe5049d721b3723dae7468"
  }
 },
 "nbformat": 4,
 "nbformat_minor": 2
}