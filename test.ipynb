{
 "cells": [
  {
   "cell_type": "code",
   "execution_count": 3,
   "source": [
    "from imports import *\n",
    "from data import *\n",
    "from arch import *\n",
    "model = return_token_model(CORE_MODEL, len(labels), preferred_cuda_test);\n",
    "#model.load_state_dict(torch.load(CHECKPOINT_PATH + ROOT_NAME + '3_17000.pt')[\"model_state_dict\"]);\n",
    "#model.load_state_dict(torch.load(\"/mnt/SSD2/pholur/CTs/checkpoints/Day_0928_Insider_Outsider_79_54480.pt\")[\"model_state_dict\"]);\n",
    "model.load_state_dict(torch.load(\"/mnt/SSD2/pholur/CTs/checkpoints/Day_0928_Insider_Outsider_20_14301.pt\")[\"model_state_dict\"]);\n",
    "model.eval();"
   ],
   "outputs": [
    {
     "output_type": "stream",
     "name": "stderr",
     "text": [
      "Some weights of the model checkpoint at roberta-base were not used when initializing RobertaForTokenClassification: ['lm_head.bias', 'lm_head.dense.weight', 'lm_head.dense.bias', 'lm_head.layer_norm.weight', 'lm_head.layer_norm.bias', 'lm_head.decoder.weight']\n",
      "- This IS expected if you are initializing RobertaForTokenClassification from the checkpoint of a model trained on another task or with another architecture (e.g. initializing a BertForSequenceClassification model from a BertForPreTraining model).\n",
      "- This IS NOT expected if you are initializing RobertaForTokenClassification from the checkpoint of a model that you expect to be exactly identical (initializing a BertForSequenceClassification model from a BertForSequenceClassification model).\n",
      "Some weights of RobertaForTokenClassification were not initialized from the model checkpoint at roberta-base and are newly initialized: ['classifier.weight', 'classifier.bias']\n",
      "You should probably TRAIN this model on a down-stream task to be able to use it for predictions and inference.\n"
     ]
    }
   ],
   "metadata": {}
  },
  {
   "cell_type": "code",
   "execution_count": 4,
   "source": [
    "from shared_train_and_test_functions import tokenization\n",
    "import spacy\n",
    "from spacy import displacy\n",
    "import nltk\n",
    "nlp = spacy.load('en_core_web_sm')\n",
    "# ONLY WORKS FOR SINGLE POST TESTING"
   ],
   "outputs": [],
   "metadata": {}
  },
  {
   "cell_type": "code",
   "execution_count": 16,
   "source": [
    "def return_insiders_and_outsiders(text, option_display=False):\n",
    "    doc = nlp(text)\n",
    "    add_np_text = []\n",
    "    spans = []\n",
    "    for npy in doc.noun_chunks:\n",
    "        add_np_text.append(npy.text)\n",
    "        spans.append((npy.start_char, npy.end_char))\n",
    "\n",
    "    test_encodings, tokens = tokenization([text], True)\n",
    "    offset_mappings = test_encodings.offset_mapping[0]\n",
    "\n",
    "    input_ids = torch.tensor(test_encodings['input_ids']).to(preferred_cuda_test)\n",
    "    attention_mask = torch.tensor(test_encodings['attention_mask']).to(preferred_cuda_test)\n",
    "    outputs = model(input_ids, attention_mask=attention_mask) # try this: labels = torch.tensor([0]*len(input_ids)).to(preferred_cuda_test))\n",
    "    predictions = outputs[0].detach().cpu().numpy()\n",
    "    single_prediction_post = predictions[0]\n",
    "    predictions_argmax = np.argmax(single_prediction_post, axis=1)\n",
    "    # print(predictions_argmax)\n",
    "    # print(outputs)\n",
    "    ents = []\n",
    "    total_true = {}\n",
    "\n",
    "    for i in range(len(spans)):\n",
    "        total_true[i] = False\n",
    "    \n",
    "    for j in range(len(spans)):\n",
    "        \n",
    "        choice = \"no\"\n",
    "        for i,index in enumerate(predictions_argmax):\n",
    "            current_token_mapping = offset_mappings[i]\n",
    " \n",
    "            if current_token_mapping[0] >= spans[j][0] and current_token_mapping[1] <= spans[j][1]: # if the token is in the span of a chunk\n",
    "                if index == 2:\n",
    "                    choice = \"yes\"\n",
    "                else:\n",
    "                    choice = \"no\"\n",
    "\n",
    "        if choice == \"no\":\n",
    "            ents.append({\"start\": spans[j][0], \"end\": spans[j][1], \"label\": \"INSIDER\"})\n",
    "        else:\n",
    "            ents.append({\"start\": spans[j][0], \"end\": spans[j][1], \"label\": \"OUTSIDER\"})\n",
    "\n",
    "    # deduplicate list of dictionaries\n",
    "    ents = [dict(t) for t in {tuple(d.items()) for d in ents}]\n",
    "    # sort list of dictionaries by start index\n",
    "    ents = sorted(ents, key=lambda x: x['start'])\n",
    "    #print(ents)\n",
    "    options = {\"colors\": {\"INSIDER\":\"#88C6F1\", \"OUTSIDER\":\"#FF82AB\"}}\n",
    "    ex = [{\"text\": text, \"ents\": ents}]\n",
    "    if option_display == True:\n",
    "        displacy.render(ex, style=\"ent\", manual=True, options=options)\n",
    "        return None\n",
    "    else:\n",
    "        dictionary_map = {}\n",
    "        for ent in ents:\n",
    "            dictionary_map[text[ent['start']:ent['end']]] = ent['label']\n",
    "        return dictionary_map"
   ],
   "outputs": [],
   "metadata": {}
  },
  {
   "cell_type": "code",
   "execution_count": 13,
   "source": [
    "#posts = [\"I think that #BigTech will kill me with vaccines. People like Bill Gates are doing it for the money. My friend, Sarah, who is a doctor, told me not to get the vaccine, because it causes cancer.\"]\n",
    "posts = [\"5g causes cancer\", \"5g is good for the economy.\", \"We should burn cell phone towers.\", \"We should build cell phone towers.\", \"Radio waves are as potent as vaccines.\", \"Vaccines are not harmful.\", \"Microchips are telling the government where we are 24/7.\", \"Vaccines contain microchips.\", \\\n",
    "    \">doesn't make sense how is wanting safety for a new experimental drug not make sense? even if you got the vaccine you still run risk to get covid, need to isolate and wear a mask, and still have the same risk of death. the company even hid any side effects and threatened to sue anyone mentioning side effects. the people taking the vaccine now are just part of the testing trials, they are volunteer test subjects, since we don't even know long term effects or any effect past 1 year of taking it\"]\n",
    "#posts = [\"I think that #BigTech will save me with vaccines. People like Bill Gates are doing it to save people. My friend, Sarah, who is a doctor, told me to get the vaccine, because it does not causes small pox.\"]\n",
    "for p in posts:\n",
    "    return_insiders_and_outsiders(p, True)"
   ],
   "outputs": [
    {
     "output_type": "stream",
     "name": "stdout",
     "text": [
      "[{'start': 0, 'end': 2, 'label': 'OUTSIDER'}, {'start': 10, 'end': 16, 'label': 'OUTSIDER'}]\n"
     ]
    },
    {
     "output_type": "display_data",
     "data": {
      "text/html": [
       "<span class=\"tex2jax_ignore\"><div class=\"entities\" style=\"line-height: 2.5; direction: ltr\">\n",
       "<mark class=\"entity\" style=\"background: #FF82AB; padding: 0.45em 0.6em; margin: 0 0.25em; line-height: 1; border-radius: 0.35em;\">\n",
       "    5g\n",
       "    <span style=\"font-size: 0.8em; font-weight: bold; line-height: 1; border-radius: 0.35em; vertical-align: middle; margin-left: 0.5rem\">OUTSIDER</span>\n",
       "</mark>\n",
       " causes \n",
       "<mark class=\"entity\" style=\"background: #FF82AB; padding: 0.45em 0.6em; margin: 0 0.25em; line-height: 1; border-radius: 0.35em;\">\n",
       "    cancer\n",
       "    <span style=\"font-size: 0.8em; font-weight: bold; line-height: 1; border-radius: 0.35em; vertical-align: middle; margin-left: 0.5rem\">OUTSIDER</span>\n",
       "</mark>\n",
       "</div></span>"
      ],
      "text/plain": [
       "<IPython.core.display.HTML object>"
      ]
     },
     "metadata": {}
    },
    {
     "output_type": "stream",
     "name": "stdout",
     "text": [
      "[{'start': 0, 'end': 2, 'label': 'INSIDER'}, {'start': 15, 'end': 26, 'label': 'INSIDER'}]\n"
     ]
    },
    {
     "output_type": "display_data",
     "data": {
      "text/html": [
       "<span class=\"tex2jax_ignore\"><div class=\"entities\" style=\"line-height: 2.5; direction: ltr\">\n",
       "<mark class=\"entity\" style=\"background: #88C6F1; padding: 0.45em 0.6em; margin: 0 0.25em; line-height: 1; border-radius: 0.35em;\">\n",
       "    5g\n",
       "    <span style=\"font-size: 0.8em; font-weight: bold; line-height: 1; border-radius: 0.35em; vertical-align: middle; margin-left: 0.5rem\">INSIDER</span>\n",
       "</mark>\n",
       " is good for \n",
       "<mark class=\"entity\" style=\"background: #88C6F1; padding: 0.45em 0.6em; margin: 0 0.25em; line-height: 1; border-radius: 0.35em;\">\n",
       "    the economy\n",
       "    <span style=\"font-size: 0.8em; font-weight: bold; line-height: 1; border-radius: 0.35em; vertical-align: middle; margin-left: 0.5rem\">INSIDER</span>\n",
       "</mark>\n",
       ".</div></span>"
      ],
      "text/plain": [
       "<IPython.core.display.HTML object>"
      ]
     },
     "metadata": {}
    },
    {
     "output_type": "stream",
     "name": "stdout",
     "text": [
      "[{'start': 0, 'end': 2, 'label': 'INSIDER'}, {'start': 15, 'end': 32, 'label': 'OUTSIDER'}]\n"
     ]
    },
    {
     "output_type": "display_data",
     "data": {
      "text/html": [
       "<span class=\"tex2jax_ignore\"><div class=\"entities\" style=\"line-height: 2.5; direction: ltr\">\n",
       "<mark class=\"entity\" style=\"background: #88C6F1; padding: 0.45em 0.6em; margin: 0 0.25em; line-height: 1; border-radius: 0.35em;\">\n",
       "    We\n",
       "    <span style=\"font-size: 0.8em; font-weight: bold; line-height: 1; border-radius: 0.35em; vertical-align: middle; margin-left: 0.5rem\">INSIDER</span>\n",
       "</mark>\n",
       " should burn \n",
       "<mark class=\"entity\" style=\"background: #FF82AB; padding: 0.45em 0.6em; margin: 0 0.25em; line-height: 1; border-radius: 0.35em;\">\n",
       "    cell phone towers\n",
       "    <span style=\"font-size: 0.8em; font-weight: bold; line-height: 1; border-radius: 0.35em; vertical-align: middle; margin-left: 0.5rem\">OUTSIDER</span>\n",
       "</mark>\n",
       ".</div></span>"
      ],
      "text/plain": [
       "<IPython.core.display.HTML object>"
      ]
     },
     "metadata": {}
    },
    {
     "output_type": "stream",
     "name": "stdout",
     "text": [
      "[{'start': 0, 'end': 2, 'label': 'INSIDER'}, {'start': 16, 'end': 33, 'label': 'INSIDER'}]\n"
     ]
    },
    {
     "output_type": "display_data",
     "data": {
      "text/html": [
       "<span class=\"tex2jax_ignore\"><div class=\"entities\" style=\"line-height: 2.5; direction: ltr\">\n",
       "<mark class=\"entity\" style=\"background: #88C6F1; padding: 0.45em 0.6em; margin: 0 0.25em; line-height: 1; border-radius: 0.35em;\">\n",
       "    We\n",
       "    <span style=\"font-size: 0.8em; font-weight: bold; line-height: 1; border-radius: 0.35em; vertical-align: middle; margin-left: 0.5rem\">INSIDER</span>\n",
       "</mark>\n",
       " should build \n",
       "<mark class=\"entity\" style=\"background: #88C6F1; padding: 0.45em 0.6em; margin: 0 0.25em; line-height: 1; border-radius: 0.35em;\">\n",
       "    cell phone towers\n",
       "    <span style=\"font-size: 0.8em; font-weight: bold; line-height: 1; border-radius: 0.35em; vertical-align: middle; margin-left: 0.5rem\">INSIDER</span>\n",
       "</mark>\n",
       ".</div></span>"
      ],
      "text/plain": [
       "<IPython.core.display.HTML object>"
      ]
     },
     "metadata": {}
    },
    {
     "output_type": "stream",
     "name": "stdout",
     "text": [
      "[{'start': 0, 'end': 11, 'label': 'OUTSIDER'}, {'start': 29, 'end': 37, 'label': 'OUTSIDER'}]\n"
     ]
    },
    {
     "output_type": "display_data",
     "data": {
      "text/html": [
       "<span class=\"tex2jax_ignore\"><div class=\"entities\" style=\"line-height: 2.5; direction: ltr\">\n",
       "<mark class=\"entity\" style=\"background: #FF82AB; padding: 0.45em 0.6em; margin: 0 0.25em; line-height: 1; border-radius: 0.35em;\">\n",
       "    Radio waves\n",
       "    <span style=\"font-size: 0.8em; font-weight: bold; line-height: 1; border-radius: 0.35em; vertical-align: middle; margin-left: 0.5rem\">OUTSIDER</span>\n",
       "</mark>\n",
       " are as potent as \n",
       "<mark class=\"entity\" style=\"background: #FF82AB; padding: 0.45em 0.6em; margin: 0 0.25em; line-height: 1; border-radius: 0.35em;\">\n",
       "    vaccines\n",
       "    <span style=\"font-size: 0.8em; font-weight: bold; line-height: 1; border-radius: 0.35em; vertical-align: middle; margin-left: 0.5rem\">OUTSIDER</span>\n",
       "</mark>\n",
       ".</div></span>"
      ],
      "text/plain": [
       "<IPython.core.display.HTML object>"
      ]
     },
     "metadata": {}
    },
    {
     "output_type": "stream",
     "name": "stdout",
     "text": [
      "[{'start': 0, 'end': 8, 'label': 'INSIDER'}]\n"
     ]
    },
    {
     "output_type": "display_data",
     "data": {
      "text/html": [
       "<span class=\"tex2jax_ignore\"><div class=\"entities\" style=\"line-height: 2.5; direction: ltr\">\n",
       "<mark class=\"entity\" style=\"background: #88C6F1; padding: 0.45em 0.6em; margin: 0 0.25em; line-height: 1; border-radius: 0.35em;\">\n",
       "    Vaccines\n",
       "    <span style=\"font-size: 0.8em; font-weight: bold; line-height: 1; border-radius: 0.35em; vertical-align: middle; margin-left: 0.5rem\">INSIDER</span>\n",
       "</mark>\n",
       " are not harmful.</div></span>"
      ],
      "text/plain": [
       "<IPython.core.display.HTML object>"
      ]
     },
     "metadata": {}
    },
    {
     "output_type": "stream",
     "name": "stdout",
     "text": [
      "[{'start': 0, 'end': 10, 'label': 'OUTSIDER'}, {'start': 23, 'end': 37, 'label': 'OUTSIDER'}, {'start': 44, 'end': 46, 'label': 'INSIDER'}]\n"
     ]
    },
    {
     "output_type": "display_data",
     "data": {
      "text/html": [
       "<span class=\"tex2jax_ignore\"><div class=\"entities\" style=\"line-height: 2.5; direction: ltr\">\n",
       "<mark class=\"entity\" style=\"background: #FF82AB; padding: 0.45em 0.6em; margin: 0 0.25em; line-height: 1; border-radius: 0.35em;\">\n",
       "    Microchips\n",
       "    <span style=\"font-size: 0.8em; font-weight: bold; line-height: 1; border-radius: 0.35em; vertical-align: middle; margin-left: 0.5rem\">OUTSIDER</span>\n",
       "</mark>\n",
       " are telling \n",
       "<mark class=\"entity\" style=\"background: #FF82AB; padding: 0.45em 0.6em; margin: 0 0.25em; line-height: 1; border-radius: 0.35em;\">\n",
       "    the government\n",
       "    <span style=\"font-size: 0.8em; font-weight: bold; line-height: 1; border-radius: 0.35em; vertical-align: middle; margin-left: 0.5rem\">OUTSIDER</span>\n",
       "</mark>\n",
       " where \n",
       "<mark class=\"entity\" style=\"background: #88C6F1; padding: 0.45em 0.6em; margin: 0 0.25em; line-height: 1; border-radius: 0.35em;\">\n",
       "    we\n",
       "    <span style=\"font-size: 0.8em; font-weight: bold; line-height: 1; border-radius: 0.35em; vertical-align: middle; margin-left: 0.5rem\">INSIDER</span>\n",
       "</mark>\n",
       " are 24/7.</div></span>"
      ],
      "text/plain": [
       "<IPython.core.display.HTML object>"
      ]
     },
     "metadata": {}
    },
    {
     "output_type": "stream",
     "name": "stdout",
     "text": [
      "[{'start': 0, 'end': 8, 'label': 'INSIDER'}, {'start': 17, 'end': 27, 'label': 'OUTSIDER'}]\n"
     ]
    },
    {
     "output_type": "display_data",
     "data": {
      "text/html": [
       "<span class=\"tex2jax_ignore\"><div class=\"entities\" style=\"line-height: 2.5; direction: ltr\">\n",
       "<mark class=\"entity\" style=\"background: #88C6F1; padding: 0.45em 0.6em; margin: 0 0.25em; line-height: 1; border-radius: 0.35em;\">\n",
       "    Vaccines\n",
       "    <span style=\"font-size: 0.8em; font-weight: bold; line-height: 1; border-radius: 0.35em; vertical-align: middle; margin-left: 0.5rem\">INSIDER</span>\n",
       "</mark>\n",
       " contain \n",
       "<mark class=\"entity\" style=\"background: #FF82AB; padding: 0.45em 0.6em; margin: 0 0.25em; line-height: 1; border-radius: 0.35em;\">\n",
       "    microchips\n",
       "    <span style=\"font-size: 0.8em; font-weight: bold; line-height: 1; border-radius: 0.35em; vertical-align: middle; margin-left: 0.5rem\">OUTSIDER</span>\n",
       "</mark>\n",
       ".</div></span>"
      ],
      "text/plain": [
       "<IPython.core.display.HTML object>"
      ]
     },
     "metadata": {}
    },
    {
     "output_type": "stream",
     "name": "stdout",
     "text": [
      "[{'start': 14, 'end': 19, 'label': 'OUTSIDER'}, {'start': 35, 'end': 41, 'label': 'INSIDER'}, {'start': 46, 'end': 69, 'label': 'OUTSIDER'}, {'start': 79, 'end': 84, 'label': 'OUTSIDER'}, {'start': 94, 'end': 97, 'label': 'INSIDER'}, {'start': 102, 'end': 113, 'label': 'OUTSIDER'}, {'start': 114, 'end': 117, 'label': 'INSIDER'}, {'start': 128, 'end': 132, 'label': 'OUTSIDER'}, {'start': 140, 'end': 145, 'label': 'OUTSIDER'}, {'start': 172, 'end': 178, 'label': 'OUTSIDER'}, {'start': 195, 'end': 208, 'label': 'OUTSIDER'}, {'start': 212, 'end': 217, 'label': 'OUTSIDER'}, {'start': 219, 'end': 230, 'label': 'OUTSIDER'}, {'start': 240, 'end': 256, 'label': 'OUTSIDER'}, {'start': 279, 'end': 285, 'label': 'OUTSIDER'}, {'start': 297, 'end': 309, 'label': 'OUTSIDER'}, {'start': 311, 'end': 321, 'label': 'INSIDER'}, {'start': 329, 'end': 340, 'label': 'OUTSIDER'}, {'start': 349, 'end': 358, 'label': 'INSIDER'}, {'start': 362, 'end': 380, 'label': 'INSIDER'}, {'start': 382, 'end': 386, 'label': 'OUTSIDER'}, {'start': 391, 'end': 414, 'label': 'INSIDER'}, {'start': 422, 'end': 424, 'label': 'INSIDER'}, {'start': 441, 'end': 458, 'label': 'OUTSIDER'}, {'start': 462, 'end': 472, 'label': 'OUTSIDER'}, {'start': 478, 'end': 484, 'label': 'INSIDER'}, {'start': 495, 'end': 497, 'label': 'INSIDER'}]\n"
     ]
    },
    {
     "output_type": "display_data",
     "data": {
      "text/html": [
       "<span class=\"tex2jax_ignore\"><div class=\"entities\" style=\"line-height: 2.5; direction: ltr\">&gt;doesn't make \n",
       "<mark class=\"entity\" style=\"background: #FF82AB; padding: 0.45em 0.6em; margin: 0 0.25em; line-height: 1; border-radius: 0.35em;\">\n",
       "    sense\n",
       "    <span style=\"font-size: 0.8em; font-weight: bold; line-height: 1; border-radius: 0.35em; vertical-align: middle; margin-left: 0.5rem\">OUTSIDER</span>\n",
       "</mark>\n",
       " how is wanting \n",
       "<mark class=\"entity\" style=\"background: #88C6F1; padding: 0.45em 0.6em; margin: 0 0.25em; line-height: 1; border-radius: 0.35em;\">\n",
       "    safety\n",
       "    <span style=\"font-size: 0.8em; font-weight: bold; line-height: 1; border-radius: 0.35em; vertical-align: middle; margin-left: 0.5rem\">INSIDER</span>\n",
       "</mark>\n",
       " for \n",
       "<mark class=\"entity\" style=\"background: #FF82AB; padding: 0.45em 0.6em; margin: 0 0.25em; line-height: 1; border-radius: 0.35em;\">\n",
       "    a new experimental drug\n",
       "    <span style=\"font-size: 0.8em; font-weight: bold; line-height: 1; border-radius: 0.35em; vertical-align: middle; margin-left: 0.5rem\">OUTSIDER</span>\n",
       "</mark>\n",
       " not make \n",
       "<mark class=\"entity\" style=\"background: #FF82AB; padding: 0.45em 0.6em; margin: 0 0.25em; line-height: 1; border-radius: 0.35em;\">\n",
       "    sense\n",
       "    <span style=\"font-size: 0.8em; font-weight: bold; line-height: 1; border-radius: 0.35em; vertical-align: middle; margin-left: 0.5rem\">OUTSIDER</span>\n",
       "</mark>\n",
       "? even if \n",
       "<mark class=\"entity\" style=\"background: #88C6F1; padding: 0.45em 0.6em; margin: 0 0.25em; line-height: 1; border-radius: 0.35em;\">\n",
       "    you\n",
       "    <span style=\"font-size: 0.8em; font-weight: bold; line-height: 1; border-radius: 0.35em; vertical-align: middle; margin-left: 0.5rem\">INSIDER</span>\n",
       "</mark>\n",
       " got \n",
       "<mark class=\"entity\" style=\"background: #FF82AB; padding: 0.45em 0.6em; margin: 0 0.25em; line-height: 1; border-radius: 0.35em;\">\n",
       "    the vaccine\n",
       "    <span style=\"font-size: 0.8em; font-weight: bold; line-height: 1; border-radius: 0.35em; vertical-align: middle; margin-left: 0.5rem\">OUTSIDER</span>\n",
       "</mark>\n",
       " \n",
       "<mark class=\"entity\" style=\"background: #88C6F1; padding: 0.45em 0.6em; margin: 0 0.25em; line-height: 1; border-radius: 0.35em;\">\n",
       "    you\n",
       "    <span style=\"font-size: 0.8em; font-weight: bold; line-height: 1; border-radius: 0.35em; vertical-align: middle; margin-left: 0.5rem\">INSIDER</span>\n",
       "</mark>\n",
       " still run \n",
       "<mark class=\"entity\" style=\"background: #FF82AB; padding: 0.45em 0.6em; margin: 0 0.25em; line-height: 1; border-radius: 0.35em;\">\n",
       "    risk\n",
       "    <span style=\"font-size: 0.8em; font-weight: bold; line-height: 1; border-radius: 0.35em; vertical-align: middle; margin-left: 0.5rem\">OUTSIDER</span>\n",
       "</mark>\n",
       " to get \n",
       "<mark class=\"entity\" style=\"background: #FF82AB; padding: 0.45em 0.6em; margin: 0 0.25em; line-height: 1; border-radius: 0.35em;\">\n",
       "    covid\n",
       "    <span style=\"font-size: 0.8em; font-weight: bold; line-height: 1; border-radius: 0.35em; vertical-align: middle; margin-left: 0.5rem\">OUTSIDER</span>\n",
       "</mark>\n",
       ", need to isolate and wear \n",
       "<mark class=\"entity\" style=\"background: #FF82AB; padding: 0.45em 0.6em; margin: 0 0.25em; line-height: 1; border-radius: 0.35em;\">\n",
       "    a mask\n",
       "    <span style=\"font-size: 0.8em; font-weight: bold; line-height: 1; border-radius: 0.35em; vertical-align: middle; margin-left: 0.5rem\">OUTSIDER</span>\n",
       "</mark>\n",
       ", and still have \n",
       "<mark class=\"entity\" style=\"background: #FF82AB; padding: 0.45em 0.6em; margin: 0 0.25em; line-height: 1; border-radius: 0.35em;\">\n",
       "    the same risk\n",
       "    <span style=\"font-size: 0.8em; font-weight: bold; line-height: 1; border-radius: 0.35em; vertical-align: middle; margin-left: 0.5rem\">OUTSIDER</span>\n",
       "</mark>\n",
       " of \n",
       "<mark class=\"entity\" style=\"background: #FF82AB; padding: 0.45em 0.6em; margin: 0 0.25em; line-height: 1; border-radius: 0.35em;\">\n",
       "    death\n",
       "    <span style=\"font-size: 0.8em; font-weight: bold; line-height: 1; border-radius: 0.35em; vertical-align: middle; margin-left: 0.5rem\">OUTSIDER</span>\n",
       "</mark>\n",
       ". \n",
       "<mark class=\"entity\" style=\"background: #FF82AB; padding: 0.45em 0.6em; margin: 0 0.25em; line-height: 1; border-radius: 0.35em;\">\n",
       "    the company\n",
       "    <span style=\"font-size: 0.8em; font-weight: bold; line-height: 1; border-radius: 0.35em; vertical-align: middle; margin-left: 0.5rem\">OUTSIDER</span>\n",
       "</mark>\n",
       " even hid \n",
       "<mark class=\"entity\" style=\"background: #FF82AB; padding: 0.45em 0.6em; margin: 0 0.25em; line-height: 1; border-radius: 0.35em;\">\n",
       "    any side effects\n",
       "    <span style=\"font-size: 0.8em; font-weight: bold; line-height: 1; border-radius: 0.35em; vertical-align: middle; margin-left: 0.5rem\">OUTSIDER</span>\n",
       "</mark>\n",
       " and threatened to sue \n",
       "<mark class=\"entity\" style=\"background: #FF82AB; padding: 0.45em 0.6em; margin: 0 0.25em; line-height: 1; border-radius: 0.35em;\">\n",
       "    anyone\n",
       "    <span style=\"font-size: 0.8em; font-weight: bold; line-height: 1; border-radius: 0.35em; vertical-align: middle; margin-left: 0.5rem\">OUTSIDER</span>\n",
       "</mark>\n",
       " mentioning \n",
       "<mark class=\"entity\" style=\"background: #FF82AB; padding: 0.45em 0.6em; margin: 0 0.25em; line-height: 1; border-radius: 0.35em;\">\n",
       "    side effects\n",
       "    <span style=\"font-size: 0.8em; font-weight: bold; line-height: 1; border-radius: 0.35em; vertical-align: middle; margin-left: 0.5rem\">OUTSIDER</span>\n",
       "</mark>\n",
       ". \n",
       "<mark class=\"entity\" style=\"background: #88C6F1; padding: 0.45em 0.6em; margin: 0 0.25em; line-height: 1; border-radius: 0.35em;\">\n",
       "    the people\n",
       "    <span style=\"font-size: 0.8em; font-weight: bold; line-height: 1; border-radius: 0.35em; vertical-align: middle; margin-left: 0.5rem\">INSIDER</span>\n",
       "</mark>\n",
       " taking \n",
       "<mark class=\"entity\" style=\"background: #FF82AB; padding: 0.45em 0.6em; margin: 0 0.25em; line-height: 1; border-radius: 0.35em;\">\n",
       "    the vaccine\n",
       "    <span style=\"font-size: 0.8em; font-weight: bold; line-height: 1; border-radius: 0.35em; vertical-align: middle; margin-left: 0.5rem\">OUTSIDER</span>\n",
       "</mark>\n",
       " now are \n",
       "<mark class=\"entity\" style=\"background: #88C6F1; padding: 0.45em 0.6em; margin: 0 0.25em; line-height: 1; border-radius: 0.35em;\">\n",
       "    just part\n",
       "    <span style=\"font-size: 0.8em; font-weight: bold; line-height: 1; border-radius: 0.35em; vertical-align: middle; margin-left: 0.5rem\">INSIDER</span>\n",
       "</mark>\n",
       " of \n",
       "<mark class=\"entity\" style=\"background: #88C6F1; padding: 0.45em 0.6em; margin: 0 0.25em; line-height: 1; border-radius: 0.35em;\">\n",
       "    the testing trials\n",
       "    <span style=\"font-size: 0.8em; font-weight: bold; line-height: 1; border-radius: 0.35em; vertical-align: middle; margin-left: 0.5rem\">INSIDER</span>\n",
       "</mark>\n",
       ", \n",
       "<mark class=\"entity\" style=\"background: #FF82AB; padding: 0.45em 0.6em; margin: 0 0.25em; line-height: 1; border-radius: 0.35em;\">\n",
       "    they\n",
       "    <span style=\"font-size: 0.8em; font-weight: bold; line-height: 1; border-radius: 0.35em; vertical-align: middle; margin-left: 0.5rem\">OUTSIDER</span>\n",
       "</mark>\n",
       " are \n",
       "<mark class=\"entity\" style=\"background: #88C6F1; padding: 0.45em 0.6em; margin: 0 0.25em; line-height: 1; border-radius: 0.35em;\">\n",
       "    volunteer test subjects\n",
       "    <span style=\"font-size: 0.8em; font-weight: bold; line-height: 1; border-radius: 0.35em; vertical-align: middle; margin-left: 0.5rem\">INSIDER</span>\n",
       "</mark>\n",
       ", since \n",
       "<mark class=\"entity\" style=\"background: #88C6F1; padding: 0.45em 0.6em; margin: 0 0.25em; line-height: 1; border-radius: 0.35em;\">\n",
       "    we\n",
       "    <span style=\"font-size: 0.8em; font-weight: bold; line-height: 1; border-radius: 0.35em; vertical-align: middle; margin-left: 0.5rem\">INSIDER</span>\n",
       "</mark>\n",
       " don't even know \n",
       "<mark class=\"entity\" style=\"background: #FF82AB; padding: 0.45em 0.6em; margin: 0 0.25em; line-height: 1; border-radius: 0.35em;\">\n",
       "    long term effects\n",
       "    <span style=\"font-size: 0.8em; font-weight: bold; line-height: 1; border-radius: 0.35em; vertical-align: middle; margin-left: 0.5rem\">OUTSIDER</span>\n",
       "</mark>\n",
       " or \n",
       "<mark class=\"entity\" style=\"background: #FF82AB; padding: 0.45em 0.6em; margin: 0 0.25em; line-height: 1; border-radius: 0.35em;\">\n",
       "    any effect\n",
       "    <span style=\"font-size: 0.8em; font-weight: bold; line-height: 1; border-radius: 0.35em; vertical-align: middle; margin-left: 0.5rem\">OUTSIDER</span>\n",
       "</mark>\n",
       " past \n",
       "<mark class=\"entity\" style=\"background: #88C6F1; padding: 0.45em 0.6em; margin: 0 0.25em; line-height: 1; border-radius: 0.35em;\">\n",
       "    1 year\n",
       "    <span style=\"font-size: 0.8em; font-weight: bold; line-height: 1; border-radius: 0.35em; vertical-align: middle; margin-left: 0.5rem\">INSIDER</span>\n",
       "</mark>\n",
       " of taking \n",
       "<mark class=\"entity\" style=\"background: #88C6F1; padding: 0.45em 0.6em; margin: 0 0.25em; line-height: 1; border-radius: 0.35em;\">\n",
       "    it\n",
       "    <span style=\"font-size: 0.8em; font-weight: bold; line-height: 1; border-radius: 0.35em; vertical-align: middle; margin-left: 0.5rem\">INSIDER</span>\n",
       "</mark>\n",
       "</div></span>"
      ],
      "text/plain": [
       "<IPython.core.display.HTML object>"
      ]
     },
     "metadata": {}
    }
   ],
   "metadata": {}
  },
  {
   "cell_type": "code",
   "execution_count": 8,
   "source": [
    "test_loss = 0\n",
    "number_of_test_batches = 0\n",
    "test_loader = get_data(INPUT_DATA_PATH, FLAG, AUG, REEXTRACT, FRACTION, \"test\")\n",
    "\n",
    "for j,test_batch in enumerate(test_loader):\n",
    "    input_ids = test_batch['input_ids'].to(preferred_cuda_test)\n",
    "    attention_mask = test_batch['attention_mask'].to(preferred_cuda_test)\n",
    "    labels = test_batch['labels'].to(preferred_cuda_test)\n",
    "    with torch.no_grad():\n",
    "        outputs = model(input_ids, attention_mask=attention_mask, labels=labels)\n",
    "        test_loss += outputs[0]\n",
    "    number_of_test_batches += 1\n",
    "print(\"Total test loss:\", test_loss/number_of_test_batches)"
   ],
   "outputs": [
    {
     "output_type": "stream",
     "name": "stdout",
     "text": [
      "Using separate samples per entity: Size =  648\n",
      "Total test loss: tensor(0.8864, device='cuda:1')\n"
     ]
    }
   ],
   "metadata": {}
  },
  {
   "cell_type": "code",
   "execution_count": 9,
   "source": [
    "import pandas as pd\n",
    "df = pd.read_csv(INPUT_DATA_PATH)\n",
    "df.head()"
   ],
   "outputs": [
    {
     "output_type": "execute_result",
     "data": {
      "text/html": [
       "<div>\n",
       "<style scoped>\n",
       "    .dataframe tbody tr th:only-of-type {\n",
       "        vertical-align: middle;\n",
       "    }\n",
       "\n",
       "    .dataframe tbody tr th {\n",
       "        vertical-align: top;\n",
       "    }\n",
       "\n",
       "    .dataframe thead th {\n",
       "        text-align: right;\n",
       "    }\n",
       "</style>\n",
       "<table border=\"1\" class=\"dataframe\">\n",
       "  <thead>\n",
       "    <tr style=\"text-align: right;\">\n",
       "      <th></th>\n",
       "      <th>PostID</th>\n",
       "      <th>SentenceID</th>\n",
       "      <th>NP_ID</th>\n",
       "      <th>Post</th>\n",
       "      <th>Sentence</th>\n",
       "      <th>NP</th>\n",
       "      <th>Modified_Post</th>\n",
       "      <th>Modified_Sentence</th>\n",
       "      <th>Question</th>\n",
       "      <th>AnswerA</th>\n",
       "      <th>AnswerB</th>\n",
       "      <th>AnswerC</th>\n",
       "      <th>id</th>\n",
       "      <th>sentiment</th>\n",
       "      <th>annotator</th>\n",
       "      <th>annotation_id</th>\n",
       "    </tr>\n",
       "  </thead>\n",
       "  <tbody>\n",
       "    <tr>\n",
       "      <th>0</th>\n",
       "      <td>6286</td>\n",
       "      <td>3</td>\n",
       "      <td>0</td>\n",
       "      <td>Why is he talking about Vaccine and Viruses? H...</td>\n",
       "      <td>If I need info about vaccine, I can easily get...</td>\n",
       "      <td>I</td>\n",
       "      <td>Why is he talking about Vaccine and Viruses? H...</td>\n",
       "      <td>&lt;b&gt;I&lt;/b&gt;f &lt;b&gt;I&lt;/b&gt; need info about vaccine, &lt;b...</td>\n",
       "      <td>Does the *** AUTHOR *** think that I(in bold) ...</td>\n",
       "      <td>Author thinks I(in bold) is a GOOD entity.</td>\n",
       "      <td>Author thinks I(in bold) is a BAD entity.</td>\n",
       "      <td>I can't resolve what the Author thinks about I...</td>\n",
       "      <td>111867</td>\n",
       "      <td>$AnswerA</td>\n",
       "      <td>solutions@solutions.com</td>\n",
       "      <td>706</td>\n",
       "    </tr>\n",
       "    <tr>\n",
       "      <th>1</th>\n",
       "      <td>4999</td>\n",
       "      <td>3</td>\n",
       "      <td>3</td>\n",
       "      <td>&gt;PCR testing standards were changed on inaugur...</td>\n",
       "      <td>By the way, can you tell me what standards wer...</td>\n",
       "      <td>what standards</td>\n",
       "      <td>&gt;PCR testing standards were changed on inaugur...</td>\n",
       "      <td>By the way, can you tell me &lt;b&gt;what standards&lt;...</td>\n",
       "      <td>Does the *** AUTHOR *** think that what standa...</td>\n",
       "      <td>Author thinks what standards(in bold) is a GOO...</td>\n",
       "      <td>Author thinks what standards(in bold) is a BAD...</td>\n",
       "      <td>I can't resolve what the Author thinks about w...</td>\n",
       "      <td>91315</td>\n",
       "      <td>$AnswerC</td>\n",
       "      <td>solutions@solutions.com</td>\n",
       "      <td>646</td>\n",
       "    </tr>\n",
       "    <tr>\n",
       "      <th>2</th>\n",
       "      <td>1924</td>\n",
       "      <td>0</td>\n",
       "      <td>5</td>\n",
       "      <td>cant believe im looking forward to th 911 trut...</td>\n",
       "      <td>cant believe im looking forward to th 911 trut...</td>\n",
       "      <td>death</td>\n",
       "      <td>&lt;b&gt;cant believe im looking forward to th 911 t...</td>\n",
       "      <td>cant believe im looking forward to th 911 trut...</td>\n",
       "      <td>Does the *** AUTHOR *** think that death(in bo...</td>\n",
       "      <td>Author thinks death(in bold) is a GOOD entity.</td>\n",
       "      <td>Author thinks death(in bold) is a BAD entity.</td>\n",
       "      <td>I can't resolve what the Author thinks about d...</td>\n",
       "      <td>42971</td>\n",
       "      <td>$AnswerB</td>\n",
       "      <td>solutions@solutions.com</td>\n",
       "      <td>1709</td>\n",
       "    </tr>\n",
       "    <tr>\n",
       "      <th>3</th>\n",
       "      <td>1924</td>\n",
       "      <td>0</td>\n",
       "      <td>5</td>\n",
       "      <td>cant believe im looking forward to th 911 trut...</td>\n",
       "      <td>cant believe im looking forward to th 911 trut...</td>\n",
       "      <td>death</td>\n",
       "      <td>&lt;b&gt;cant believe im looking forward to th 911 t...</td>\n",
       "      <td>cant believe im looking forward to th 911 trut...</td>\n",
       "      <td>Does the *** AUTHOR *** think that death(in bo...</td>\n",
       "      <td>Author thinks death(in bold) is a GOOD entity.</td>\n",
       "      <td>Author thinks death(in bold) is a BAD entity.</td>\n",
       "      <td>I can't resolve what the Author thinks about d...</td>\n",
       "      <td>42971</td>\n",
       "      <td>$AnswerB</td>\n",
       "      <td>solutions@solutions.com</td>\n",
       "      <td>667</td>\n",
       "    </tr>\n",
       "    <tr>\n",
       "      <th>4</th>\n",
       "      <td>1924</td>\n",
       "      <td>0</td>\n",
       "      <td>5</td>\n",
       "      <td>cant believe im looking forward to th 911 trut...</td>\n",
       "      <td>cant believe im looking forward to th 911 trut...</td>\n",
       "      <td>death</td>\n",
       "      <td>&lt;b&gt;cant believe im looking forward to th 911 t...</td>\n",
       "      <td>cant believe im looking forward to th 911 trut...</td>\n",
       "      <td>Does the *** AUTHOR *** think that death(in bo...</td>\n",
       "      <td>Author thinks death(in bold) is a GOOD entity.</td>\n",
       "      <td>Author thinks death(in bold) is a BAD entity.</td>\n",
       "      <td>I can't resolve what the Author thinks about d...</td>\n",
       "      <td>42971</td>\n",
       "      <td>$AnswerB</td>\n",
       "      <td>solutions@solutions.com</td>\n",
       "      <td>665</td>\n",
       "    </tr>\n",
       "  </tbody>\n",
       "</table>\n",
       "</div>"
      ],
      "text/plain": [
       "   PostID  SentenceID  NP_ID  \\\n",
       "0    6286           3      0   \n",
       "1    4999           3      3   \n",
       "2    1924           0      5   \n",
       "3    1924           0      5   \n",
       "4    1924           0      5   \n",
       "\n",
       "                                                Post  \\\n",
       "0  Why is he talking about Vaccine and Viruses? H...   \n",
       "1  >PCR testing standards were changed on inaugur...   \n",
       "2  cant believe im looking forward to th 911 trut...   \n",
       "3  cant believe im looking forward to th 911 trut...   \n",
       "4  cant believe im looking forward to th 911 trut...   \n",
       "\n",
       "                                            Sentence              NP  \\\n",
       "0  If I need info about vaccine, I can easily get...               I   \n",
       "1  By the way, can you tell me what standards wer...  what standards   \n",
       "2  cant believe im looking forward to th 911 trut...           death   \n",
       "3  cant believe im looking forward to th 911 trut...           death   \n",
       "4  cant believe im looking forward to th 911 trut...           death   \n",
       "\n",
       "                                       Modified_Post  \\\n",
       "0  Why is he talking about Vaccine and Viruses? H...   \n",
       "1  >PCR testing standards were changed on inaugur...   \n",
       "2  <b>cant believe im looking forward to th 911 t...   \n",
       "3  <b>cant believe im looking forward to th 911 t...   \n",
       "4  <b>cant believe im looking forward to th 911 t...   \n",
       "\n",
       "                                   Modified_Sentence  \\\n",
       "0  <b>I</b>f <b>I</b> need info about vaccine, <b...   \n",
       "1  By the way, can you tell me <b>what standards<...   \n",
       "2  cant believe im looking forward to th 911 trut...   \n",
       "3  cant believe im looking forward to th 911 trut...   \n",
       "4  cant believe im looking forward to th 911 trut...   \n",
       "\n",
       "                                            Question  \\\n",
       "0  Does the *** AUTHOR *** think that I(in bold) ...   \n",
       "1  Does the *** AUTHOR *** think that what standa...   \n",
       "2  Does the *** AUTHOR *** think that death(in bo...   \n",
       "3  Does the *** AUTHOR *** think that death(in bo...   \n",
       "4  Does the *** AUTHOR *** think that death(in bo...   \n",
       "\n",
       "                                             AnswerA  \\\n",
       "0         Author thinks I(in bold) is a GOOD entity.   \n",
       "1  Author thinks what standards(in bold) is a GOO...   \n",
       "2     Author thinks death(in bold) is a GOOD entity.   \n",
       "3     Author thinks death(in bold) is a GOOD entity.   \n",
       "4     Author thinks death(in bold) is a GOOD entity.   \n",
       "\n",
       "                                             AnswerB  \\\n",
       "0          Author thinks I(in bold) is a BAD entity.   \n",
       "1  Author thinks what standards(in bold) is a BAD...   \n",
       "2      Author thinks death(in bold) is a BAD entity.   \n",
       "3      Author thinks death(in bold) is a BAD entity.   \n",
       "4      Author thinks death(in bold) is a BAD entity.   \n",
       "\n",
       "                                             AnswerC      id sentiment  \\\n",
       "0  I can't resolve what the Author thinks about I...  111867  $AnswerA   \n",
       "1  I can't resolve what the Author thinks about w...   91315  $AnswerC   \n",
       "2  I can't resolve what the Author thinks about d...   42971  $AnswerB   \n",
       "3  I can't resolve what the Author thinks about d...   42971  $AnswerB   \n",
       "4  I can't resolve what the Author thinks about d...   42971  $AnswerB   \n",
       "\n",
       "                 annotator  annotation_id  \n",
       "0  solutions@solutions.com            706  \n",
       "1  solutions@solutions.com            646  \n",
       "2  solutions@solutions.com           1709  \n",
       "3  solutions@solutions.com            667  \n",
       "4  solutions@solutions.com            665  "
      ]
     },
     "metadata": {},
     "execution_count": 9
    }
   ],
   "metadata": {}
  },
  {
   "cell_type": "code",
   "execution_count": 22,
   "source": [
    "posts = list(set(df['Post'].tolist()))\n",
    "print(len(posts))\n",
    "from tqdm import tqdm\n",
    "# find relevant entities\n",
    "ents = {}\n",
    "for i,p in tqdm(enumerate(posts[:])):\n",
    "    returned_dictionary = return_insiders_and_outsiders(p, False)\n",
    "    for key in returned_dictionary:\n",
    "        key_ = key.lower()\n",
    "        if key_ not in ents:\n",
    "            ents[key_] = [returned_dictionary[key]]\n",
    "        else:\n",
    "            ents[key_].append(returned_dictionary[key])"
   ],
   "outputs": [
    {
     "output_type": "stream",
     "name": "stderr",
     "text": [
      "3it [00:00, 21.98it/s]"
     ]
    },
    {
     "output_type": "stream",
     "name": "stdout",
     "text": [
      "1690\n"
     ]
    },
    {
     "output_type": "stream",
     "name": "stderr",
     "text": [
      "1690it [01:11, 23.69it/s]\n"
     ]
    }
   ],
   "metadata": {}
  },
  {
   "cell_type": "code",
   "execution_count": 37,
   "source": [
    "print(\"Number of pulled entities:\", len(ents))\n",
    "histo = []\n",
    "histo_insider = []\n",
    "histo_outsider = []\n",
    "val_i = 0\n",
    "val_o = 0\n",
    "\n",
    "for k in ents:\n",
    "    val_i = 0\n",
    "    val_o = 0\n",
    "    histo.append(len(ents[k]))\n",
    "    for ent in ents[k]:\n",
    "            if ent == \"INSIDER\":\n",
    "                val_i += 1\n",
    "            elif ent == \"OUTSIDER\":\n",
    "                val_o += 1\n",
    "    histo_insider.append(val_i)\n",
    "    histo_outsider.append(val_o)\n",
    "\n",
    "import matplotlib.pyplot as plt\n",
    "plt.hist(histo, bins=400)\n",
    "plt.xscale(\"log\")\n",
    "plt.yscale(\"log\")\n",
    "plt.xlabel(\"Bins\")\n",
    "plt.ylabel(\"Number of insider & outsider\")\n",
    "plt.show()\n",
    "\n",
    "plt.hist(histo_insider, bins=400)\n",
    "plt.yscale(\"log\")\n",
    "plt.xlabel(\"Bins\")\n",
    "plt.ylabel(\"Number of insider\")\n",
    "plt.show()\n",
    "\n",
    "plt.hist(histo_outsider, bins=400, color='r')\n",
    "plt.yscale(\"log\")\n",
    "plt.xlabel(\"Bins\")\n",
    "plt.ylabel(\"Number of outsider\")\n",
    "plt.show()"
   ],
   "outputs": [
    {
     "output_type": "stream",
     "name": "stdout",
     "text": [
      "Number of pulled entities: 11568\n"
     ]
    },
    {
     "output_type": "display_data",
     "data": {
      "image/png": "[encoded data removed]",
      "text/plain": [
       "<Figure size 432x288 with 1 Axes>"
      ]
     },
     "metadata": {
      "needs_background": "light"
     }
    },
    {
     "output_type": "display_data",
     "data": {
      "image/png": "[encoded data removed]",
      "text/plain": [
       "<Figure size 432x288 with 1 Axes>"
      ]
     },
     "metadata": {
      "needs_background": "light"
     }
    },
    {
     "output_type": "display_data",
     "data": {
      "image/png": "[encoded data removed]",
      "text/plain": [
       "<Figure size 432x288 with 1 Axes>"
      ]
     },
     "metadata": {
      "needs_background": "light"
     }
    }
   ],
   "metadata": {}
  },
  {
   "cell_type": "code",
   "execution_count": 43,
   "source": [
    "import math\n",
    "ents_counts = {}\n",
    "uncertainty = {}\n",
    "for k in ents:\n",
    "    values = ents[k]\n",
    "    if k not in ents_counts:\n",
    "        ents_counts[k] = (0.00001,0.00001)\n",
    "    for v in values:\n",
    "        if v == \"INSIDER\":\n",
    "            ents_counts[k] = (ents_counts[k][0] + 1, ents_counts[k][1])\n",
    "        elif v == \"OUTSIDER\":\n",
    "            ents_counts[k] = (ents_counts[k][0], ents_counts[k][1] + 1)\n",
    "    # compute binary cross entropy\n",
    "    uncertainty[k] = -(ents_counts[k][0]/len(values))*math.log(ents_counts[k][0]/len(values)) - (ents_counts[k][1]/len(values))*math.log(ents_counts[k][1]/len(values))\n",
    "plt.hist(uncertainty.values(), bins=400)    \n",
    "plt.xlabel(\"Bins\")\n",
    "plt.ylabel(\"Uncertainty\")\n",
    "plt.yscale(\"log\")\n",
    "plt.show() "
   ],
   "outputs": [
    {
     "output_type": "display_data",
     "data": {
      "image/png": "[encoded data removed]",
      "text/plain": [
       "<Figure size 432x288 with 1 Axes>"
      ]
     },
     "metadata": {
      "needs_background": "light"
     }
    }
   ],
   "metadata": {}
  },
  {
   "cell_type": "code",
   "execution_count": 55,
   "source": [
    "i = 0\n",
    "for k in uncertainty:\n",
    "    if i < 50:\n",
    "        if uncertainty[k] > 0.5:\n",
    "            print(k, end=\", \")\n",
    "            print(ents_counts[k], end=\", \")\n",
    "    i += 1"
   ],
   "outputs": [
    {
     "output_type": "stream",
     "name": "stdout",
     "text": [
      "what, (105.00001, 249.00001), it, (411.00001, 762.00001), god, (5.00001, 10.00001), vaccines, (87.00001, 273.00001), you, (409.00001, 539.00001), the past, (5.00001, 6.00001), the facts, (1.00001, 4.00001), who, (125.00001, 189.00001), a product, (2.00001, 3.00001), same thing, (1.00001, 1.00001), the govt, (1.00001, 2.00001), nothing, (19.00001, 47.00001), hcq, (3.00001, 4.00001), drs, (1.00001, 1.00001), "
     ]
    }
   ],
   "metadata": {}
  },
  {
   "cell_type": "code",
   "execution_count": 57,
   "source": [
    "i = 0\n",
    "for k in uncertainty:\n",
    "    if i < 500:\n",
    "        if uncertainty[k] < 0.1 and len(ents[k]) > 3:\n",
    "            print(k, end=\", \")\n",
    "            print(ents_counts[k], end=\", \")\n",
    "    i += 1"
   ],
   "outputs": [
    {
     "output_type": "stream",
     "name": "stdout",
     "text": [
      "my family, (7.00001, 1e-05), governments, (1e-05, 11.00001), idk, (1e-05, 8.00001), me, (219.00001, 1e-05), good luck, (1e-05, 4.00001), a conspiracy theory, (1e-05, 5.00001), control, (1e-05, 12.00001), half, (1e-05, 5.00001), that point, (6.00001, 1e-05), the death, (1e-05, 8.00001), no problem, (1e-05, 5.00001), this sub, (1e-05, 21.00001), shit, (1e-05, 20.00001), months, (1e-05, 8.00001), op, (1e-05, 7.00001), the mainstream media, (1e-05, 6.00001), claims, (1e-05, 4.00001), the story, (1e-05, 7.00001), the bill, (1e-05, 6.00001), the government, (1e-05, 50.00001), more money, (1e-05, 8.00001), big pharma, (1e-05, 23.00001), pneumonia, (1e-05, 5.00001), covid, (3.00001, 149.00001), my point, (6.00001, 1e-05), the vaccines, (1e-05, 61.00001), access, (9.00001, 1e-05), this virus, (1e-05, 17.00001), the first time, (6.00001, 1e-05), china, (1e-05, 32.00001), deaths, (1e-05, 19.00001), corona virus, (1e-05, 4.00001), the virus, (2.00001, 96.00001), fauci, (1e-05, 10.00001), adverse reactions, (1e-05, 5.00001), the trial, (5.00001, 1e-05), lack, (1e-05, 6.00001), a man, (1e-05, 4.00001), the real conspiracy, (1e-05, 4.00001), cnn, (1e-05, 7.00001), protection, (4.00001, 1e-05), vaccinated people, (4.00001, 1e-05), pfizer, (1e-05, 19.00001), "
     ]
    }
   ],
   "metadata": {}
  }
 ],
 "metadata": {
  "orig_nbformat": 4,
  "language_info": {
   "name": "python",
   "version": "3.7.3",
   "mimetype": "text/x-python",
   "codemirror_mode": {
    "name": "ipython",
    "version": 3
   },
   "pygments_lexer": "ipython3",
   "nbconvert_exporter": "python",
   "file_extension": ".py"
  },
  "kernelspec": {
   "name": "python3",
   "display_name": "Python 3.7.3 64-bit ('sit': conda)"
  },
  "interpreter": {
   "hash": "37d3506361144379a82906a039c4df0bf6bb606682fe5049d721b3723dae7468"
  }
 },
 "nbformat": 4,
 "nbformat_minor": 2
}