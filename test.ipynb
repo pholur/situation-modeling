{
 "cells": [
  {
   "cell_type": "code",
   "execution_count": null,
   "source": [],
   "outputs": [],
   "metadata": {}
  }
 ],
 "metadata": {
  "orig_nbformat": 4,
  "language_info": {
   "name": "python",
   "version": "3.9.5"
  },
  "kernelspec": {
   "name": "python3",
   "display_name": "Python 3.9.5 64-bit ('im2concept': conda)"
  },
  "interpreter": {
   "hash": "bbeddcf0d6c524619cf5080d9874469eb19e3d0036fdbfd331bf6f437523493a"
  }
 },
 "nbformat": 4,
 "nbformat_minor": 2
}